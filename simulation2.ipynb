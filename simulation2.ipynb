{
 "cells": [
  {
   "cell_type": "code",
   "execution_count": 1,
   "metadata": {},
   "outputs": [
    {
     "data": {
      "text/plain": [
       "\"\\ndef reject_prob1(n, modelY='1', modelDA='8', ate=0, ntrials=1000):\\n    phi_tau11s, phi_tau10s, phi_theta1s, phi_theta2s, phi_theta12s = np.zeros(ntrials), np.zeros(ntrials), np.zeros(ntrials), np.zeros(ntrials), np.zeros(ntrials)\\n    for i in range(ntrials):\\n        dgp = DGP(modelY,modelDA,n,tau=ate)\\n        inf = Inference(dgp.Y, dgp.D, dgp.A, modelDA, tuple_idx=dgp.tuple_idx, tau=dgp.tau)\\n        phi_tau11, phi_tau10, phi_theta1, phi_theta2, phi_theta12 = inf.inference()\\n        phi_tau11s[i] = phi_tau11\\n        phi_tau10s[i] = phi_tau10\\n        phi_theta1s[i] = phi_theta1\\n        phi_theta2s[i] = phi_theta2\\n        phi_theta12s[i] = phi_theta12\\n        break\\n    return phi_tau11s, phi_tau10s, phi_theta1s, phi_theta2s, phi_theta12s\\n\""
      ]
     },
     "execution_count": 1,
     "metadata": {},
     "output_type": "execute_result"
    }
   ],
   "source": [
    "import numpy as np\n",
    "from multiple_factor import DGP2, Inferece2\n",
    "from dgp import DGP\n",
    "from inference import Inference\n",
    "\n",
    "def reject_prob(Xdim, num_factor, sample_size, ntrials=1000):\n",
    "    phi_tau = np.zeros((ntrials,2))\n",
    "    for i in range(ntrials):\n",
    "        dgp = DGP2(num_factor, sample_size, Xdim)\n",
    "        Y, D, tuple_idx = dgp.Y, dgp.D, dgp.tuple_dix\n",
    "        inf = Inferece2(Y, D, tuple_idx)\n",
    "        phi_tau[i,0] = inf.phi_tau\n",
    "        phi_tau[i,1] = inf.phi_tau_p\n",
    "    return np.mean(phi_tau, axis=0)\n",
    "\n",
    "\"\"\"\n",
    "def reject_prob1(n, modelY='1', modelDA='8', ate=0, ntrials=1000):\n",
    "    phi_tau11s, phi_tau10s, phi_theta1s, phi_theta2s, phi_theta12s = np.zeros(ntrials), np.zeros(ntrials), np.zeros(ntrials), np.zeros(ntrials), np.zeros(ntrials)\n",
    "    for i in range(ntrials):\n",
    "        dgp = DGP(modelY,modelDA,n,tau=ate)\n",
    "        inf = Inference(dgp.Y, dgp.D, dgp.A, modelDA, tuple_idx=dgp.tuple_idx, tau=dgp.tau)\n",
    "        phi_tau11, phi_tau10, phi_theta1, phi_theta2, phi_theta12 = inf.inference()\n",
    "        phi_tau11s[i] = phi_tau11\n",
    "        phi_tau10s[i] = phi_tau10\n",
    "        phi_theta1s[i] = phi_theta1\n",
    "        phi_theta2s[i] = phi_theta2\n",
    "        phi_theta12s[i] = phi_theta12\n",
    "        break\n",
    "    return phi_tau11s, phi_tau10s, phi_theta1s, phi_theta2s, phi_theta12s\n",
    "\"\"\"\n"
   ]
  },
  {
   "cell_type": "code",
   "execution_count": 3,
   "metadata": {},
   "outputs": [
    {
     "name": "stdout",
     "output_type": "stream",
     "text": [
      "[0.06 0.06]\n",
      "[0.03 0.03]\n",
      "[0.055 0.055]\n",
      "[0.005 0.005]\n"
     ]
    }
   ],
   "source": [
    "print(reject_prob(1, 2, 1280, 200))\n",
    "print(reject_prob(2, 2, 1280, 200))\n",
    "print(reject_prob(1, 3, 1280, 200))\n",
    "print(reject_prob(3, 2, 1280, 200))\n",
    "print(reject_prob(6, 2, 1280, 200))\n",
    "print(reject_prob(2, 3, 1280, 200))\n",
    "print(reject_prob(6, 4, 1280, 200))\n",
    "print(reject_prob(1, 5, 1280, 200))"
   ]
  },
  {
   "cell_type": "markdown",
   "metadata": {},
   "source": []
  }
 ],
 "metadata": {
  "kernelspec": {
   "display_name": "Python 3",
   "language": "python",
   "name": "python3"
  },
  "language_info": {
   "codemirror_mode": {
    "name": "ipython",
    "version": 3
   },
   "file_extension": ".py",
   "mimetype": "text/x-python",
   "name": "python",
   "nbconvert_exporter": "python",
   "pygments_lexer": "ipython3",
   "version": "3.8.5"
  }
 },
 "nbformat": 4,
 "nbformat_minor": 4
}
