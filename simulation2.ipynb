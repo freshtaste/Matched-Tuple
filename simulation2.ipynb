{
 "cells": [
  {
   "cell_type": "code",
   "execution_count": 1,
   "metadata": {},
   "outputs": [
    {
     "data": {
      "text/plain": [
       "'\\nres, res_p = np.zeros((4,5)), np.zeros((4,5))\\nfor i, q in enumerate([1, 2, 4, 8]):\\n    for j, k in enumerate([2, 3, 4, 5, 6]):\\n        p1, p2 = reject_prob(q, k, 1280, 500)\\n        res[i,j] = p1\\n        res_p[i,j] = p2\\n        print(\"q={}, k={}, p1={},p2={}\".format(q,k,p1,p2))\\n'"
      ]
     },
     "execution_count": 1,
     "metadata": {},
     "output_type": "execute_result"
    }
   ],
   "source": [
    "import numpy as np\n",
    "from multiple_factor import DGP2, Inferece2\n",
    "from dgp import DGP\n",
    "from inference import Inference\n",
    "\n",
    "def reject_prob(Xdim, num_factor, sample_size, ntrials=1000):\n",
    "    phi_tau = np.zeros((ntrials,2))\n",
    "    for i in range(ntrials):\n",
    "        dgp = DGP2(num_factor, sample_size, Xdim)\n",
    "        Y, D, tuple_idx = dgp.Y, dgp.D, dgp.tuple_dix\n",
    "        inf = Inferece2(Y, D, tuple_idx)\n",
    "        phi_tau[i,0] = inf.phi_tau\n",
    "        phi_tau[i,1] = inf.phi_tau_p\n",
    "    return np.mean(phi_tau, axis=0)\n",
    "\n",
    "\"\"\"\n",
    "def reject_prob1(n, modelY='1', modelDA='8', ate=0, ntrials=1000):\n",
    "    phi_tau11s, phi_tau10s, phi_theta1s, phi_theta2s, phi_theta12s = np.zeros(ntrials), np.zeros(ntrials), np.zeros(ntrials), np.zeros(ntrials), np.zeros(ntrials)\n",
    "    for i in range(ntrials):\n",
    "        dgp = DGP(modelY,modelDA,n,tau=ate)\n",
    "        inf = Inference(dgp.Y, dgp.D, dgp.A, modelDA, tuple_idx=dgp.tuple_idx, tau=dgp.tau)\n",
    "        phi_tau11, phi_tau10, phi_theta1, phi_theta2, phi_theta12 = inf.inference()\n",
    "        phi_tau11s[i] = phi_tau11\n",
    "        phi_tau10s[i] = phi_tau10\n",
    "        phi_theta1s[i] = phi_theta1\n",
    "        phi_theta2s[i] = phi_theta2\n",
    "        phi_theta12s[i] = phi_theta12\n",
    "        break\n",
    "    return phi_tau11s, phi_tau10s, phi_theta1s, phi_theta2s, phi_theta12s\n",
    "\"\"\"\n",
    "\n",
    "\n",
    "\"\"\"\n",
    "res, res_p = np.zeros((4,5)), np.zeros((4,5))\n",
    "for i, q in enumerate([1, 2, 4, 8]):\n",
    "    for j, k in enumerate([2, 3, 4, 5, 6]):\n",
    "        p1, p2 = reject_prob(q, k, 1280, 500)\n",
    "        res[i,j] = p1\n",
    "        res_p[i,j] = p2\n",
    "        print(\"q={}, k={}, p1={},p2={}\".format(q,k,p1,p2))\n",
    "\"\"\""
   ]
  },
  {
   "cell_type": "code",
   "execution_count": 2,
   "metadata": {},
   "outputs": [
    {
     "name": "stdout",
     "output_type": "stream",
     "text": [
      "[(1, 2, 0.059, 0.059), (1, 3, 0.051, 0.049), (1, 4, 0.048, 0.046), (1, 5, 0.051, 0.052), (1, 6, 0.038, 0.038), (2, 2, 0.029, 0.025), (2, 3, 0.019, 0.014), (2, 4, 0.008, 0.007), (2, 5, 0.005, 0.005), (2, 6, 0.002, 0.002), (4, 2, 0.009, 0.006), (4, 3, 0.008, 0.006), (4, 4, 0.006, 0.006), (4, 5, 0.008, 0.008), (4, 6, 0.005, 0.005), (8, 2, 0.018, 0.011), (8, 3, 0.011, 0.01), (8, 4, 0.011, 0.011), (8, 5, 0.023, 0.022), (8, 6, 0.025, 0.025), (10, 2, 0.019, 0.013), (10, 3, 0.014, 0.012), (10, 4, 0.012, 0.01), (10, 5, 0.014, 0.012), (10, 6, 0.021, 0.021)]\n"
     ]
    }
   ],
   "source": [
    "from joblib import Parallel, delayed\n",
    "import multiprocessing\n",
    "# what are your inputs, and what operation do you want to\n",
    "# perform on each input. For example...\n",
    "qk_pairs = [(q,k) for q in [1,2,4,8,10] for k in [2,3,4,5,6]]\n",
    "def processInput(qk):\n",
    "    q, k = qk\n",
    "    p1, p2 = reject_prob(q, k, 1280, 1000)\n",
    "    return (q,k,p1,p2)\n",
    "num_cores = multiprocessing.cpu_count()\n",
    "results = Parallel(n_jobs=num_cores)(delayed(processInput)(i) for i in qk_pairs)\n",
    "print(results)"
   ]
  },
  {
   "cell_type": "markdown",
   "metadata": {},
   "source": [
    "# [(1, 2, 0.059, 0.059), (1, 3, 0.051, 0.049), (1, 4, 0.048, 0.046), (1, 5, 0.051, 0.052), (1, 6, 0.038, 0.038), (2, 2, 0.029, 0.025), (2, 3, 0.019, 0.014), (2, 4, 0.008, 0.007), (2, 5, 0.005, 0.005), (2, 6, 0.002, 0.002), (4, 2, 0.009, 0.006), (4, 3, 0.008, 0.006), (4, 4, 0.006, 0.006), (4, 5, 0.008, 0.008), (4, 6, 0.005, 0.005), (8, 2, 0.018, 0.011), (8, 3, 0.011, 0.01), (8, 4, 0.011, 0.011), (8, 5, 0.023, 0.022), (8, 6, 0.025, 0.025), (10, 2, 0.019, 0.013), (10, 3, 0.014, 0.012), (10, 4, 0.012, 0.01), (10, 5, 0.014, 0.012), (10, 6, 0.021, 0.021)]"
   ]
  },
  {
   "cell_type": "code",
   "execution_count": 6,
   "metadata": {},
   "outputs": [],
   "source": [
    "def ate(Xdim, num_factor, sample_size, ntrials=1000):\n",
    "    ates = np.zeros(ntrials)\n",
    "    for i in range(ntrials):\n",
    "        dgp = DGP2(num_factor, sample_size, Xdim)\n",
    "        Y, D, tuple_idx = dgp.Y, dgp.D, dgp.tuple_dix\n",
    "        inf = Inferece2(Y, D, tuple_idx)\n",
    "        ate = inf.tau\n",
    "        ates[i] = ate\n",
    "    return ates\n",
    "\n",
    "import matplotlib.pyplot as plt\n",
    "import seaborn as sns\n",
    "sns.set()\n",
    "\n",
    "\n",
    "def plot_hist(tau1, tau2, tau3, tau4):\n",
    "    \n",
    "    fig, (ax_1, ax_2, ax_3, ax_4) = plt.subplots(1, 4, figsize=(20, 5))\n",
    "    ax_1.hist(tau1, color=\"b\")\n",
    "    ax_1.set_xlabel(\"Dim(X)=1, K=2\")\n",
    "    ax_1.set_ylabel(\"Count\")\n",
    "    ax_1.axvline(x=np.mean(tau1), ymin=0, ymax=3000, color=\"k\", linestyle=\"--\")\n",
    "\n",
    "    ax_2.hist(tau2, color=\"b\")\n",
    "    ax_2.set_xlabel(\"Dim(X)=10, K=2\")\n",
    "    ax_2.set_ylabel(\"Count\")\n",
    "    ax_2.axvline(x=np.mean(tau2), ymin=0, ymax=3000, color=\"k\", linestyle=\"--\")\n",
    "    \n",
    "    ax_3.hist(tau3, color=\"b\")\n",
    "    ax_3.set_xlabel(\"Dim(X)=1, K=6\")\n",
    "    ax_3.set_ylabel(\"Count\")\n",
    "    ax_3.axvline(x=np.mean(tau3), ymin=0, ymax=3000, color=\"k\", linestyle=\"--\")\n",
    "    \n",
    "    ax_4.hist(tau4, color=\"b\")\n",
    "    ax_4.set_xlabel(\"Dim(X)=10, K=6\")\n",
    "    ax_4.set_ylabel(\"Count\")\n",
    "    ax_4.axvline(x=np.mean(tau4), ymin=0, ymax=3000, color=\"k\", linestyle=\"--\")\n",
    "    return fig"
   ]
  },
  {
   "cell_type": "code",
   "execution_count": 7,
   "metadata": {},
   "outputs": [],
   "source": [
    "tau1 = ate(1, 2, 1280, 1000)\n",
    "tau2 = ate(10, 2, 1280, 1000)\n",
    "tau3 = ate(1, 6, 1280, 1000)\n",
    "tau4 = ate(10, 6, 1280, 1000)"
   ]
  },
  {
   "cell_type": "code",
   "execution_count": null,
   "metadata": {},
   "outputs": [],
   "source": [
    "plot_hist(tau1, tau2, tau3, tau4)"
   ]
  }
 ],
 "metadata": {
  "kernelspec": {
   "display_name": "Python 3",
   "language": "python",
   "name": "python3"
  },
  "language_info": {
   "codemirror_mode": {
    "name": "ipython",
    "version": 3
   },
   "file_extension": ".py",
   "mimetype": "text/x-python",
   "name": "python",
   "nbconvert_exporter": "python",
   "pygments_lexer": "ipython3",
   "version": "3.8.5"
  }
 },
 "nbformat": 4,
 "nbformat_minor": 4
}
