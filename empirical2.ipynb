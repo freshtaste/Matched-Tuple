{
 "cells": [
  {
   "cell_type": "code",
   "execution_count": 179,
   "metadata": {},
   "outputs": [
    {
     "name": "stderr",
     "output_type": "stream",
     "text": [
      "/Users/liujizhou/opt/anaconda3/lib/python3.8/site-packages/pandas/io/stata.py:1433: UnicodeWarning: \n",
      "One or more strings in the dta file could not be decoded using utf-8, and\n",
      "so the fallback encoding of latin-1 is being used.  This can happen when a file\n",
      "has been incorrectly encoded by Stata or some other software. You should verify\n",
      "the string values returned are correct.\n",
      "  warnings.warn(msg, UnicodeWarning)\n"
     ]
    }
   ],
   "source": [
    "import pandas as pd\n",
    "import numpy as np\n",
    "\n",
    "\n",
    "#longterm = 'GHA_2008_MGFERE_v01_M_Stata8/r7tomerge.dta'\n",
    "#all_data = 'GHA_2008_MGFERE_v01_M_Stata8/ReplicationDataGhanaJDE.dta'\n",
    "\n",
    "# obtained by running the first three stata commends in \"Table 5: Longer-term results\" from JDEreplicationfilesGhana.do\n",
    "my_data = 'GHA_2008_MGFERE_v01_M_Stata8/mydata.dta' \n",
    "\n",
    "#data_longterm = pd.read_stata(longterm)\n",
    "#data_all = pd.read_stata(all_data)\n",
    "mydata = pd.read_stata(my_data)"
   ]
  },
  {
   "cell_type": "code",
   "execution_count": 169,
   "metadata": {},
   "outputs": [],
   "source": [
    "df_mydata = mydata[mydata.wave==7][['realfinalprofit', 'atreatcash', 'atreatequip', 'wave', 'groupnum' ]]\n",
    "dummies = pd.get_dummies(df_mydata.groupnum)\n",
    "df = pd.concat([df_mydata, dummies], axis=1, join='inner')"
   ]
  },
  {
   "cell_type": "code",
   "execution_count": 170,
   "metadata": {},
   "outputs": [
    {
     "name": "stdout",
     "output_type": "stream",
     "text": [
      "const          126.994885\n",
      "atreatcash      22.557150\n",
      "atreatequip     43.511862\n",
      "dtype: float64\n",
      "const          7.958574\n",
      "atreatcash     0.855145\n",
      "atreatequip    1.663011\n",
      "dtype: float64\n"
     ]
    }
   ],
   "source": [
    "import statsmodels.api as sm\n",
    "\n",
    "Y = df.realfinalprofit\n",
    "X = df[['atreatcash', 'atreatequip']+list(dummies.columns)]\n",
    "idx = (1-np.isnan(Y))==1\n",
    "Y = Y[idx]\n",
    "X = X[idx]\n",
    "X = sm.add_constant(X)\n",
    "model = sm.OLS(Y,X)\n",
    "results = model.fit()\n",
    "print(results.params[:3])\n",
    "print(results.tvalues[:3])"
   ]
  },
  {
   "cell_type": "code",
   "execution_count": 171,
   "metadata": {},
   "outputs": [
    {
     "name": "stdout",
     "output_type": "stream",
     "text": [
      "const          126.994885\n",
      "atreatcash      22.557150\n",
      "atreatequip     43.511862\n",
      "dtype: float64\n",
      "const          13.426499\n",
      "atreatcash      1.371273\n",
      "atreatequip     2.645769\n",
      "dtype: float64\n"
     ]
    },
    {
     "name": "stderr",
     "output_type": "stream",
     "text": [
      "<ipython-input-171-8b04d9b1a7ef>:6: SettingWithCopyWarning: \n",
      "A value is trying to be set on a copy of a slice from a DataFrame\n",
      "\n",
      "See the caveats in the documentation: https://pandas.pydata.org/pandas-docs/stable/user_guide/indexing.html#returning-a-view-versus-a-copy\n",
      "  Y[idx] = Yhat[idx]\n"
     ]
    }
   ],
   "source": [
    "Y = df.realfinalprofit\n",
    "X = df[['atreatcash', 'atreatequip']+list(dummies.columns)]\n",
    "X = sm.add_constant(X)\n",
    "Yhat = results.predict(X)\n",
    "idx = np.isnan(Y)\n",
    "Y[idx] = Yhat[idx]\n",
    "model = sm.OLS(Y,X)\n",
    "results = model.fit()\n",
    "print(results.params[:3])\n",
    "print(results.tvalues[:3])"
   ]
  },
  {
   "cell_type": "code",
   "execution_count": 172,
   "metadata": {},
   "outputs": [
    {
     "name": "stdout",
     "output_type": "stream",
     "text": [
      "const          127.875633\n",
      "atreatcash      21.457336\n",
      "atreatequip     37.417927\n",
      "dtype: float64\n",
      "const          13.557263\n",
      "atreatcash      1.306567\n",
      "atreatequip     2.278429\n",
      "dtype: float64\n"
     ]
    },
    {
     "name": "stderr",
     "output_type": "stream",
     "text": [
      "<ipython-input-172-ec6db9acc87d>:7: SettingWithCopyWarning: \n",
      "A value is trying to be set on a copy of a slice from a DataFrame.\n",
      "Try using .loc[row_indexer,col_indexer] = value instead\n",
      "\n",
      "See the caveats in the documentation: https://pandas.pydata.org/pandas-docs/stable/user_guide/indexing.html#returning-a-view-versus-a-copy\n",
      "  df_clean['treatment'] = treatment\n"
     ]
    }
   ],
   "source": [
    "df_mydata['Yhat'] = Y\n",
    "bad_groups = [991,992,993,994]\n",
    "df_clean = df_mydata[~df_mydata['groupnum'].isin(bad_groups)]\n",
    "treatment = np.zeros(len(df_clean))\n",
    "treatment[df_clean['atreatcash']==1] = 1\n",
    "treatment[df_clean['atreatequip']==1] = 2\n",
    "df_clean['treatment'] = treatment\n",
    "df_sort = df_clean.sort_values(by=['groupnum','treatment'], ascending=True)\n",
    "\n",
    "\n",
    "dummies = pd.get_dummies(df_sort.groupnum)\n",
    "df_sort = pd.concat([df_sort, dummies], axis=1, join='inner')\n",
    "Y = df_sort.Yhat\n",
    "X = df_sort[['atreatcash', 'atreatequip']+list(dummies.columns)]\n",
    "X = sm.add_constant(X)\n",
    "model = sm.OLS(Y,X)\n",
    "results = model.fit()\n",
    "print(results.params[:3])\n",
    "print(results.tvalues[:3])\n",
    "\n"
   ]
  },
  {
   "cell_type": "code",
   "execution_count": 173,
   "metadata": {},
   "outputs": [
    {
     "name": "stdout",
     "output_type": "stream",
     "text": [
      "const          127.875633\n",
      "atreatcash      21.457336\n",
      "atreatequip     37.417927\n",
      "dtype: float64\n",
      "const          13.557263\n",
      "atreatcash      1.306567\n",
      "atreatequip     2.278429\n",
      "dtype: float64\n"
     ]
    }
   ],
   "source": [
    "df_strata = pd.read_stata('GHA_2008_MGFERE_v01_M_Stata8/ReplicationDataGhanaJDE.dta')\n",
    "df_strata = df_strata[df_strata.wave==2][['groupnum','male_male', 'female_female', 'male_mixed', 'female_mixed',\n",
    "                                          'highcapture','highcapital']]\n",
    "df_strata['strata'] = df_strata.male_male*100000 + df_strata.female_female*10000 + df_strata.male_mixed*1000 \\\n",
    "    + df_strata.female_mixed*100 + df_strata.highcapture*10 + df_strata.highcapital\n",
    "\n",
    "df_strata_sort = df_strata.sort_values(by=['strata','groupnum'], ascending=True)\n",
    "df_total = df_sort.merge(df_strata_sort.iloc[::4], how='left',on='groupnum')\n",
    "df_total = df_total.sort_values(by=['strata','groupnum'], ascending=True)\n",
    "\n",
    "Y = df_total.Yhat\n",
    "X = df_total[['atreatcash', 'atreatequip']+list(dummies.columns)]\n",
    "X = sm.add_constant(X)\n",
    "model = sm.OLS(Y,X)\n",
    "results = model.fit()\n",
    "print(results.params[:3])\n",
    "print(results.tvalues[:3])"
   ]
  },
  {
   "cell_type": "code",
   "execution_count": 174,
   "metadata": {},
   "outputs": [
    {
     "name": "stdout",
     "output_type": "stream",
     "text": [
      "const          127.610526\n",
      "atreatcash      22.557496\n",
      "atreatequip     37.383746\n",
      "dtype: float64\n",
      "const          14.877883\n",
      "atreatcash      1.528085\n",
      "atreatequip     2.532442\n",
      "dtype: float64\n"
     ]
    }
   ],
   "source": [
    "df_process_tuple = df_total\n",
    "df_repeat = df_process_tuple\n",
    "counts = 1\n",
    "for i in range(1,len(df_process_tuple)):\n",
    "    if df_process_tuple.strata[i] != df_process_tuple.strata[i-1]:\n",
    "        if (counts/4) % 2 ==1:\n",
    "            repeat = df_process_tuple.iloc[i-8:i-4]\n",
    "            df_repeat = df_repeat.append(repeat)\n",
    "        counts = 1\n",
    "    else:\n",
    "        counts += 1\n",
    "df_repeat = df_repeat.sort_values(by=['strata','groupnum'], ascending=True)\n",
    "\n",
    "Y = df_repeat.Yhat\n",
    "X = df_repeat[['atreatcash', 'atreatequip']+list(dummies.columns)]\n",
    "X = sm.add_constant(X)\n",
    "model = sm.OLS(Y,X)\n",
    "results = model.fit()\n",
    "print(results.params[:3])\n",
    "print(results.tvalues[:3])"
   ]
  },
  {
   "cell_type": "code",
   "execution_count": 175,
   "metadata": {},
   "outputs": [
    {
     "name": "stdout",
     "output_type": "stream",
     "text": [
      "21.457336246269733 37.41792732346764\n",
      "0.9425579152094034 2.3275920806865464\n"
     ]
    }
   ],
   "source": [
    "from empirical import Inference\n",
    "\n",
    "df_repeat = df_repeat[['Yhat','treatment','groupnum','strata']]\n",
    "Ys = df_total.Yhat.to_numpy()\n",
    "Yr = df_repeat.Yhat.to_numpy()\n",
    "Ys = Ys.reshape(-1,4)\n",
    "Yr = Yr.reshape(-1,4)\n",
    "inf = Inference(Ys, Yr)\n",
    "print(inf.tau1, inf.tau2)\n",
    "print(inf.tau1/inf.se_tau1, inf.tau2/inf.se_tau2)"
   ]
  },
  {
   "cell_type": "code",
   "execution_count": 176,
   "metadata": {},
   "outputs": [
    {
     "name": "stdout",
     "output_type": "stream",
     "text": [
      "21.457336246269733 37.41792732346764\n",
      "0.9519758859594617 2.3269667802599914\n"
     ]
    }
   ],
   "source": [
    "\n",
    "df_drop = df_process_tuple\n",
    "counts = 1\n",
    "for i in range(1,len(df_process_tuple)):\n",
    "    if df_process_tuple.strata[i] != df_process_tuple.strata[i-1]:\n",
    "        if (counts/4) % 2 ==1:\n",
    "             df_drop = df_drop[df_drop.groupnum!=df_process_tuple.groupnum[i-1]]\n",
    "        counts = 1\n",
    "    else:\n",
    "        counts += 1\n",
    "#df_drop = df_drop.sort_values(by=['groupnum','strata'], ascending=True)\n",
    "\n",
    "df_drop = df_drop[['Yhat','treatment','groupnum','strata']]\n",
    "Ys = df_total.Yhat.to_numpy()\n",
    "Yr = df_drop.Yhat.to_numpy()\n",
    "Ys = Ys.reshape(-1,4)\n",
    "Yr = Yr.reshape(-1,4)\n",
    "inf = Inference(Ys, Yr)\n",
    "print(inf.tau1, inf.tau2)\n",
    "print(inf.tau1/inf.se_tau1, inf.tau2/inf.se_tau2)"
   ]
  },
  {
   "cell_type": "code",
   "execution_count": 177,
   "metadata": {},
   "outputs": [
    {
     "name": "stdout",
     "output_type": "stream",
     "text": [
      "21.457336246269733 37.41792732346764\n",
      "0.9616875998688005 2.4068449884923915\n"
     ]
    }
   ],
   "source": [
    "Ys_control = Ys[:,:2]\n",
    "tmp = pd.DataFrame(Ys_control)\n",
    "Ys_control = tmp.apply(lambda x:np.random.shuffle(x) or x, axis=1).to_numpy()\n",
    "Ys[:,:2] = Ys_control\n",
    "inf = Inference(Ys, Ys)\n",
    "print(inf.tau1, inf.tau2)\n",
    "print(inf.tau1/inf.se_tau1, inf.tau2/inf.se_tau2)"
   ]
  },
  {
   "cell_type": "code",
   "execution_count": 178,
   "metadata": {},
   "outputs": [
    {
     "name": "stdout",
     "output_type": "stream",
     "text": [
      "const          129.091394\n",
      "atreatcash      20.445134\n",
      "atreatequip     34.044968\n",
      "dtype: float64\n",
      "const          8.105086\n",
      "atreatcash     0.773822\n",
      "atreatequip    1.301254\n",
      "dtype: float64\n",
      "(18.022939021147835, 31.586359921435644)\n",
      "(26.06917183794431, 19.47102382758535)\n",
      "0.6913506548341904 1.6222238851500985\n"
     ]
    }
   ],
   "source": [
    "Y = df_total.realfinalprofit.to_numpy()\n",
    "X = df_total[['atreatcash', 'atreatequip']+list(dummies.columns)]\n",
    "idx = (1-np.isnan(Y))==1\n",
    "Y = Y[idx]\n",
    "X = X[idx]\n",
    "X = sm.add_constant(X)\n",
    "model = sm.OLS(Y,X)\n",
    "results = model.fit()\n",
    "print(results.params[:3])\n",
    "print(results.tvalues[:3])\n",
    "\n",
    "Ynan = df_total.realfinalprofit.to_numpy()\n",
    "Ynan = Ynan.reshape((-1,4))\n",
    "inf = Inference(Ynan, Ynan)\n",
    "print(inf.estimator_nan())\n",
    "print(inf.inference_nan())\n",
    "print(inf.estimator_nan()[0]/inf.inference_nan()[0], inf.estimator_nan()[1]/inf.inference_nan()[1])"
   ]
  },
  {
   "cell_type": "markdown",
   "metadata": {},
   "source": [
    "TO DO: Repeat and Drop for nan"
   ]
  },
  {
   "cell_type": "code",
   "execution_count": null,
   "metadata": {},
   "outputs": [],
   "source": []
  }
 ],
 "metadata": {
  "interpreter": {
   "hash": "eb1c31993c61ea452a7bffd5740eb69b379c0a174f93c7698ebeb3ef9ab8ebf4"
  },
  "kernelspec": {
   "display_name": "Python 3.8.5 ('base')",
   "language": "python",
   "name": "python3"
  },
  "language_info": {
   "codemirror_mode": {
    "name": "ipython",
    "version": 3
   },
   "file_extension": ".py",
   "mimetype": "text/x-python",
   "name": "python",
   "nbconvert_exporter": "python",
   "pygments_lexer": "ipython3",
   "version": "3.8.5"
  },
  "orig_nbformat": 4
 },
 "nbformat": 4,
 "nbformat_minor": 2
}
