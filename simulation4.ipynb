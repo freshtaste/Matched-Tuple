{
 "cells": [
  {
   "cell_type": "code",
   "execution_count": 1,
   "metadata": {},
   "outputs": [
    {
     "name": "stderr",
     "output_type": "stream",
     "text": [
      "R[write to console]: Notice:\n",
      "Formerly the gendistance() function scaled the Mahalanobis distances into large\n",
      "integers, as required by the nonbimatch() function. Starting in version 1.5.0,\n",
      "gendistance() will return unscaled distances. This facilitates comparison to an\n",
      "appropriate F distribution for multivariate normal data. Any required scaling\n",
      "will happen invisibly within nonbimatch(). This notice will be removed in a\n",
      "future version of nbpMatching.\n",
      "\n"
     ]
    },
    {
     "name": "stdout",
     "output_type": "stream",
     "text": [
      "(0.0001349305828082194, 8.996104317690396e-05)\n"
     ]
    }
   ],
   "source": [
    "import numpy as np\n",
    "from nbpmatching import match_tuple\n",
    "from multiple_factor import DGP2\n",
    "\n",
    "class pair_vs_quad(DGP2):\n",
    "    \n",
    "    def generate_Y(self):\n",
    "        n, X, D = self.n, self.X, self.D\n",
    "        eps = np.random.normal(0, 0.1, size=n)\n",
    "        gamma = D[:,-1] + 1 # Y(0,0) = Y(1,0), Y(0,1) = Y(1,1)\n",
    "        Y = gamma*(X - .5).dot(np.ones(self.Xdim)) + eps\n",
    "        return Y\n",
    "    \n",
    "def comp_mse(ntrails=1000, n=1000):\n",
    "    taus_p, taus_q = np.zeros(ntrails), np.zeros(ntrails)\n",
    "    for i in range(ntrails):\n",
    "        pair = pair_vs_quad(1, n, 1, tau=0, match_more=False, design='MT')\n",
    "        Yp, Dp = pair.Y, pair.D[:,0]\n",
    "        quad = pair_vs_quad(2, 2*n, 1, tau=0, match_more=False, design='MT')\n",
    "        Yq, Dq = quad.Y, quad.D\n",
    "        tau_p = np.mean(Yp[Dp==1] - Yp[Dp==0])\n",
    "        tau_q = np.mean(Yq[(Dq[:,0]==0) & (Dq[:,1]==0)] - Yq[(Dq[:,0]==0) & (Dq[:,1]==1)])\n",
    "        taus_p[i] = tau_p\n",
    "        taus_q[i] = tau_q\n",
    "    return np.mean(taus_p**2), np.mean(taus_q**2)\n",
    "\n",
    "print(comp_mse(ntrails=200, n=1000))"
   ]
  },
  {
   "cell_type": "code",
   "execution_count": 2,
   "metadata": {},
   "outputs": [
    {
     "name": "stdout",
     "output_type": "stream",
     "text": [
      "(3.517268391114399e-05, 4.2142443035248466e-05)\n"
     ]
    }
   ],
   "source": [
    "class pair_vs_quad(DGP2):\n",
    "    \n",
    "    def generate_Y(self):\n",
    "        n, X, D = self.n, self.X, self.D\n",
    "        eps = np.random.normal(0, 0.1, size=n)\n",
    "        gamma = 1 # Y(0,0) = Y(1,0) = Y(0,1) = Y(1,1)\n",
    "        Y = gamma*(X - .5).dot(np.linspace(1,2,self.Xdim)) + eps\n",
    "        return Y\n",
    "    \n",
    "def comp_mse(ntrails=1000, n=1000):\n",
    "    taus_p, taus_q = np.zeros(ntrails), np.zeros(ntrails)\n",
    "    for i in range(ntrails):\n",
    "        pair = pair_vs_quad(1, n, 1, tau=0, match_more=False, design='MT')\n",
    "        Yp, Dp = pair.Y, pair.D[:,0]\n",
    "        quad = pair_vs_quad(2, 2*n, 1, tau=0, match_more=False, design='MT')\n",
    "        Yq, Dq = quad.Y, quad.D\n",
    "        tau_p = np.mean(Yp[Dp==1] - Yp[Dp==0])\n",
    "        tau_q = np.mean(Yq[(Dq[:,0]==0) & (Dq[:,1]==0)] - Yq[(Dq[:,0]==0) & (Dq[:,1]==1)])\n",
    "        taus_p[i] = tau_p\n",
    "        taus_q[i] = tau_q\n",
    "    return np.mean(taus_p**2), np.mean(taus_q**2)\n",
    "\n",
    "print(comp_mse(ntrails=200, n=1000))"
   ]
  },
  {
   "cell_type": "code",
   "execution_count": null,
   "metadata": {},
   "outputs": [],
   "source": []
  }
 ],
 "metadata": {
  "interpreter": {
   "hash": "eb1c31993c61ea452a7bffd5740eb69b379c0a174f93c7698ebeb3ef9ab8ebf4"
  },
  "kernelspec": {
   "display_name": "Python 3.8.5 ('base')",
   "language": "python",
   "name": "python3"
  },
  "language_info": {
   "codemirror_mode": {
    "name": "ipython",
    "version": 3
   },
   "file_extension": ".py",
   "mimetype": "text/x-python",
   "name": "python",
   "nbconvert_exporter": "python",
   "pygments_lexer": "ipython3",
   "version": "3.8.5"
  },
  "orig_nbformat": 4
 },
 "nbformat": 4,
 "nbformat_minor": 2
}
