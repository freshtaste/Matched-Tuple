{
 "cells": [
  {
   "cell_type": "code",
   "execution_count": 1,
   "metadata": {},
   "outputs": [],
   "source": [
    "import numpy as np\n",
    "import pandas as pd\n",
    "from multiple_factor import DGP2, Inferece2\n",
    "from joblib import Parallel, delayed\n",
    "import multiprocessing\n",
    "\n",
    "# load covariates data\n",
    "data = pd.read_csv(\"FactorialData/educationData2008.csv\")\n",
    "cols = ['Total']\n",
    "cols += list(data.iloc[:,26:32].columns)\n",
    "cols += list(data.iloc[:,34:36].columns)\n",
    "cols += ['teachers']\n",
    "X = data[cols].to_numpy()\n",
    "\n",
    "class DGP3(DGP2):\n",
    "    \n",
    "    def __init__(self, num_factor, num_sample, X, tau=0, match_more=False, design='MT'):\n",
    "        self.total = X\n",
    "        self.covariates = X[:,:-1]\n",
    "        super().__init__(num_factor, num_sample, self.covariates.shape[1], tau, match_more, design)\n",
    "        \n",
    "    def generate_X(self):\n",
    "        idx = np.random.choice(len(self.total), self.n, replace=False)\n",
    "        total = self.total[idx]\n",
    "        X = total[:,:-1]\n",
    "        self.Y0 = total[:,-1]\n",
    "        return X\n",
    "\n",
    "    def generate_Y(self):\n",
    "        X = self.X - np.mean(self.X, axis=0)\n",
    "        if self.D.shape[1] > 1:\n",
    "            gamma = 2*self.D[:,1] - 1\n",
    "            Y = gamma*X.dot(np.linspace(1,.2,9)) \\\n",
    "                + (np.mean(self.D[:,1:],axis=1) + self.D[:,0])*self.tau + self.Y0\n",
    "        else:\n",
    "            Y = self.D[:,0]*self.tau + self.Y0\n",
    "        return Y"
   ]
  },
  {
   "cell_type": "code",
   "execution_count": 2,
   "metadata": {},
   "outputs": [],
   "source": [
    "def reject_prob(X, num_factor, sample_size, tau=0, ntrials=1000, more=False, design='MT'):\n",
    "    phi_tau = np.zeros(ntrials)\n",
    "    for i in range(ntrials):\n",
    "        dgp = DGP3(num_factor, sample_size, X, tau, more, design)\n",
    "        Y, D, tuple_idx = dgp.Y, dgp.D, dgp.tuple_idx\n",
    "        inf = Inferece2(Y, D, tuple_idx, design)\n",
    "        phi_tau[i] = inf.phi_tau\n",
    "    return np.mean(phi_tau)\n",
    "\n",
    "def risk(X, num_factor, sample_size, tau=0, ntrials=1000, more=False, design='MT'):\n",
    "    mse = np.zeros(ntrials)\n",
    "    for i in range(ntrials):\n",
    "        dgp = DGP3(num_factor, sample_size, X, tau, more, design)\n",
    "        Y, D, tuple_idx = dgp.Y, dgp.D, dgp.tuple_idx\n",
    "        ate = np.mean(Y[D[:,0]==1]) - np.mean(Y[D[:,0]==0])\n",
    "        mse[i] = (ate - tau)**2\n",
    "    return np.mean(mse)\n",
    "\n",
    "def reject_prob_parrell(X, num_factor, sample_size, tau=0, ntrials=1000, more=False, design='MT'):\n",
    "    if design == 'MT2':\n",
    "        more = True\n",
    "        design = 'MT'\n",
    "    X = X/np.std(X,axis=0)/np.sqrt(12)\n",
    "    if design == 'S4':\n",
    "        X = X[:, np.random.permutation(X.shape[1])]\n",
    "    def process(qk):\n",
    "        dgp = DGP3(num_factor, sample_size, X, tau, more, design)\n",
    "        Y, D, tuple_idx = dgp.Y, dgp.D, dgp.tuple_idx\n",
    "        inf = Inferece2(Y, D, tuple_idx, design)\n",
    "        return inf.phi_tau\n",
    "    num_cores = multiprocessing.cpu_count()\n",
    "    ret = Parallel(n_jobs=num_cores)(delayed(process)(i) for i in range(ntrials))\n",
    "    return np.mean(ret)\n",
    "\n",
    "def risk_parrell(X, num_factor, sample_size, tau=0, ntrials=1000, more=False, design='MT'):\n",
    "    if design == 'MT2':\n",
    "        more = True\n",
    "        design = 'MT'\n",
    "    X = X/np.std(X,axis=0)/np.sqrt(12)\n",
    "    if design == 'S4':\n",
    "        X = X[:, np.random.permutation(X.shape[1])]\n",
    "    def process(qk):\n",
    "        dgp = DGP3(num_factor, sample_size, X, tau, more, design)\n",
    "        Y, D, tuple_idx = dgp.Y, dgp.D, dgp.tuple_idx\n",
    "        ate = np.mean(Y[D[:,0]==1]) - np.mean(Y[D[:,0]==0])\n",
    "        return (ate - tau)**2\n",
    "    num_cores = multiprocessing.cpu_count()\n",
    "    ret = Parallel(n_jobs=num_cores)(delayed(process)(i) for i in range(ntrials))\n",
    "    return np.mean(ret)"
   ]
  },
  {
   "cell_type": "code",
   "execution_count": 3,
   "metadata": {},
   "outputs": [
    {
     "name": "stdout",
     "output_type": "stream",
     "text": [
      "0.00031544765277139483\n",
      "0.00045992975912504167\n",
      "0.0010314106733879146\n",
      "0.00045285408519983437\n",
      "0.02\n",
      "0.06\n",
      "0.07\n"
     ]
    }
   ],
   "source": [
    "print(risk_parrell(X+1e-5*np.random.normal(size=X.shape), 5, 1280, 0.05, 100, design='MT'))\n",
    "print(risk_parrell(X+1e-5*np.random.normal(size=X.shape), 5, 1280, 0.05, 100, design='MP-B'))\n",
    "print(risk_parrell(X+1e-5*np.random.normal(size=X.shape), 5, 1280, 0.05, 100, design='S4'))\n",
    "print(risk_parrell(X+1e-5*np.random.normal(size=X.shape), 5, 1280, 0.05, 100, design='RE'))\n",
    "\n",
    "print(reject_prob_parrell(X+1e-5*np.random.normal(size=X.shape), 5, 1280, 0, 100, design='MT'))\n",
    "print(reject_prob_parrell(X+1e-5*np.random.normal(size=X.shape), 5, 1280, 0, 100, design='MT2'))\n",
    "print(reject_prob_parrell(X+1e-5*np.random.normal(size=X.shape), 5, 1280, 0, 100, design='S4'))"
   ]
  },
  {
   "cell_type": "code",
   "execution_count": 4,
   "metadata": {},
   "outputs": [
    {
     "name": "stderr",
     "output_type": "stream",
     "text": [
      "/Users/liujizhou/opt/anaconda3/lib/python3.8/site-packages/joblib/externals/loky/process_executor.py:688: UserWarning: A worker stopped while some jobs were given to the executor. This can be caused by a too short worker timeout or by a memory leak.\n",
      "  warnings.warn(\n"
     ]
    },
    {
     "name": "stdout",
     "output_type": "stream",
     "text": [
      "[1.         2.36948114 1.20217173 2.67258079 1.92456228 1.75330399]\n",
      "[1.         2.60018969 1.42461574 3.43026565 1.90330011 2.00043216]\n",
      "[0.013, 0.047, 0.055, 0.05]\n",
      "[0.657, 0.718, 0.462, 0.462]\n"
     ]
    }
   ],
   "source": [
    "# add a few noise to break the tie for S4\n",
    "X = X + 1e-5*np.random.normal(size=X.shape)\n",
    "n = 1000\n",
    "\n",
    "designs = ['MT', 'C', 'MT2', 'S4', 'MP-B', 'RE']\n",
    "mse = [risk_parrell(X, 5, 1280, 0, n, design=d) for d in designs]\n",
    "mse2 = [risk_parrell(X, 5, 1280, 0.05, n, design=d) for d in designs]\n",
    "print(mse/mse[0])\n",
    "print(mse2/mse2[0])\n",
    "\n",
    "designs = ['MT', 'MT2', 'C', 'S4']\n",
    "size = [reject_prob_parrell(X, 5, 1280, 0, n, design=d) for d in designs]\n",
    "power = [reject_prob_parrell(X, 5, 1280, 0.05, n, design=d) for d in designs]\n",
    "\n",
    "print(size)\n",
    "print(power)"
   ]
  },
  {
   "cell_type": "markdown",
   "metadata": {},
   "source": [
    "[1.         2.36948114 1.20217173 2.67258079 1.92456228 1.75330399]\n",
    "[1.         2.60018969 1.42461574 3.43026565 1.90330011 2.00043216]\n",
    "[0.013, 0.047, 0.055, 0.05]\n",
    "[0.657, 0.718, 0.462, 0.462]"
   ]
  }
 ],
 "metadata": {
  "kernelspec": {
   "display_name": "Python 3.8.5 ('base')",
   "language": "python",
   "name": "python3"
  },
  "language_info": {
   "codemirror_mode": {
    "name": "ipython",
    "version": 3
   },
   "file_extension": ".py",
   "mimetype": "text/x-python",
   "name": "python",
   "nbconvert_exporter": "python",
   "pygments_lexer": "ipython3",
   "version": "3.8.5"
  },
  "orig_nbformat": 4,
  "vscode": {
   "interpreter": {
    "hash": "eb1c31993c61ea452a7bffd5740eb69b379c0a174f93c7698ebeb3ef9ab8ebf4"
   }
  }
 },
 "nbformat": 4,
 "nbformat_minor": 2
}
