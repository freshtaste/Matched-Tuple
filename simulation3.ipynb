{
 "cells": [
  {
   "cell_type": "code",
   "execution_count": 1,
   "metadata": {},
   "outputs": [],
   "source": [
    "import numpy as np\n",
    "from multiple_factor import DGP2, Inferece2\n",
    "from dgp import DGP\n",
    "\n",
    "def reject_prob(Xdim, num_factor, sample_size, tau=0, ntrials=1000, more=False, design='MT'):\n",
    "    phi_tau = np.zeros(ntrials)\n",
    "    for i in range(ntrials):\n",
    "        dgp = DGP2(num_factor, sample_size, Xdim, tau, more, design)\n",
    "        Y, D, tuple_idx = dgp.Y, dgp.D, dgp.tuple_idx\n",
    "        inf = Inferece2(Y, D, tuple_idx, design)\n",
    "        phi_tau[i] = inf.phi_tau\n",
    "    return np.mean(phi_tau)\n",
    "\n",
    "\n",
    "def risk(Xdim, num_factor, sample_size, tau=0, ntrials=1000, more=False, design='MT'):\n",
    "    mse = np.zeros(ntrials)\n",
    "    for i in range(ntrials):\n",
    "        dgp = DGP2(num_factor, sample_size, Xdim, tau, more, design)\n",
    "        Y, D, tuple_idx = dgp.Y, dgp.D, dgp.tuple_idx\n",
    "        ate = np.mean(Y[D[:,0]==1]) - np.mean(Y[D[:,0]==0])\n",
    "        mse[i] = (ate - tau)**2\n",
    "    return np.mean(mse)\n",
    "\n",
    "\n",
    "def test(q,k):\n",
    "    print(q,k)\n",
    "    print(risk(q, k, 1280, tau=0, ntrials=100, more=False, design='S4'))\n",
    "    print(risk(q, k, 1280, tau=0, ntrials=100, more=False, design='C'))\n",
    "    print(risk(q, k, 1280, tau=0, ntrials=100, more=False, design='RE'))\n",
    "    print(risk(q, k, 1280, tau=0, ntrials=100, more=False, design='MP-B'))\n",
    "    print(risk(q, k, 1280, tau=0, ntrials=100, more=False, design='MT'))\n",
    "\n",
    "#[test(q,k) for q in [1,2,4,8,10] for k in [1,2,3,4,5,6]]\n",
    "#test(1,2)\n",
    "#test(2,2)\n",
    "#test(10,6)"
   ]
  },
  {
   "cell_type": "code",
   "execution_count": 2,
   "metadata": {},
   "outputs": [
    {
     "name": "stdout",
     "output_type": "stream",
     "text": [
      "[(1, 1, 0.061), (1, 2, 0.068), (1, 3, 0.071), (1, 4, 0.049), (1, 5, 0.063), (1, 6, 0.046), (2, 1, 0.047), (2, 2, 0.046), (2, 3, 0.051), (2, 4, 0.065), (2, 5, 0.056), (2, 6, 0.059), (4, 1, 0.055), (4, 2, 0.048), (4, 3, 0.041), (4, 4, 0.055), (4, 5, 0.064), (4, 6, 0.053), (8, 1, 0.048), (8, 2, 0.064), (8, 3, 0.052), (8, 4, 0.052), (8, 5, 0.057), (8, 6, 0.056), (10, 1, 0.045), (10, 2, 0.069), (10, 3, 0.047), (10, 4, 0.049), (10, 5, 0.05), (10, 6, 0.072)]\n"
     ]
    }
   ],
   "source": [
    "print([(q,k,reject_prob(q,k,1280,tau=0,ntrials=1000,more=False, design='C')) for q in [1,2,4,8,10] for k in [1,2,3,4,5,6]])"
   ]
  },
  {
   "cell_type": "code",
   "execution_count": 3,
   "metadata": {},
   "outputs": [
    {
     "name": "stdout",
     "output_type": "stream",
     "text": [
      "[(1, 1, 0.226), (1, 2, 0.225), (1, 3, 0.205), (1, 4, 0.201), (1, 5, 0.242), (1, 6, 0.243), (2, 1, 0.08), (2, 2, 0.089), (2, 3, 0.072), (2, 4, 0.09), (2, 5, 0.093), (2, 6, 0.086), (4, 1, 0.067), (4, 2, 0.075), (4, 3, 0.08), (4, 4, 0.08), (4, 5, 0.073), (4, 6, 0.076), (8, 1, 0.082), (8, 2, 0.071), (8, 3, 0.072), (8, 4, 0.06), (8, 5, 0.065), (8, 6, 0.065), (10, 1, 0.057), (10, 2, 0.053), (10, 3, 0.054), (10, 4, 0.057), (10, 5, 0.065), (10, 6, 0.066)]\n"
     ]
    }
   ],
   "source": [
    "print([(q,k,reject_prob(q,k,1280,tau=0.02,ntrials=1000,more=False, design='C')) for q in [1,2,4,8,10] for k in [1,2,3,4,5,6]])"
   ]
  },
  {
   "cell_type": "code",
   "execution_count": 4,
   "metadata": {},
   "outputs": [
    {
     "name": "stdout",
     "output_type": "stream",
     "text": [
      "[(1, 1, 0.052), (1, 2, 0.071), (1, 3, 0.059), (1, 4, 0.057), (1, 5, 0.066), (1, 6, 0.083), (2, 1, 0.049), (2, 2, 0.045), (2, 3, 0.059), (2, 4, 0.056), (2, 5, 0.05), (2, 6, 0.083), (4, 1, 0.069), (4, 2, 0.046), (4, 3, 0.05), (4, 4, 0.058), (4, 5, 0.075), (4, 6, 0.068), (8, 1, 0.044), (8, 2, 0.058), (8, 3, 0.056), (8, 4, 0.062), (8, 5, 0.05), (8, 6, 0.077), (10, 1, 0.047), (10, 2, 0.048), (10, 3, 0.053), (10, 4, 0.063), (10, 5, 0.063), (10, 6, 0.059)]\n"
     ]
    }
   ],
   "source": [
    "print([(q,k,reject_prob(q,k,1280,tau=0,ntrials=1000,more=False, design='S4')) for q in [1,2,4,8,10] for k in [1,2,3,4,5,6]])"
   ]
  },
  {
   "cell_type": "code",
   "execution_count": 5,
   "metadata": {},
   "outputs": [
    {
     "name": "stdout",
     "output_type": "stream",
     "text": [
      "[(1, 1, 0.827), (1, 2, 0.824), (1, 3, 0.841), (1, 4, 0.836), (1, 5, 0.849), (1, 6, 0.873), (2, 1, 0.361), (2, 2, 0.378), (2, 3, 0.396), (2, 4, 0.389), (2, 5, 0.417), (2, 6, 0.439), (4, 1, 0.201), (4, 2, 0.2), (4, 3, 0.198), (4, 4, 0.198), (4, 5, 0.228), (4, 6, 0.292), (8, 1, 0.136), (8, 2, 0.132), (8, 3, 0.143), (8, 4, 0.125), (8, 5, 0.126), (8, 6, 0.179), (10, 1, 0.102), (10, 2, 0.099), (10, 3, 0.104), (10, 4, 0.103), (10, 5, 0.125), (10, 6, 0.15)]\n"
     ]
    }
   ],
   "source": [
    "print([(q,k,reject_prob(q,k,1280,tau=0.02,ntrials=1000,more=False, design='S4')) for q in [1,2,4,8,10] for k in [1,2,3,4,5,6]])"
   ]
  },
  {
   "cell_type": "markdown",
   "metadata": {},
   "source": [
    "designs = ['MT', 'C', 'MT2', 'S4', 'MP-B', 'RE']\n",
    "results = []\n",
    "\n",
    "for m in designs:\n",
    "    print(m)\n",
    "    if m == 'MT2':\n",
    "        result = {(q,k): risk(q, k, 1280, tau=0, ntrials=1000, more=True, design='MT') \n",
    "         for q in [1,2,4,8,10] for k in [1,2,3,4,5,6]}\n",
    "    else:\n",
    "        result = {(q,k): risk(q, k, 1280, tau=0, ntrials=1000, more=False, design=m) \n",
    "         for q in [1,2,4,8,10] for k in [1,2,3,4,5,6]}\n",
    "    results.append(result)\n",
    "    baseline = results[0][(1,1)]\n",
    "    for q in [1,2,4,8,10]:\n",
    "        for k in [1,2,3,4,5,6]:\n",
    "            if k<6:\n",
    "                print(\"{:.3f} & \".format(result[(q,k)]/baseline), end = '')\n",
    "            else:\n",
    "                print(\"{:.3f} \\\\\\\\\".format(result[(q,k)]/baseline))"
   ]
  },
  {
   "cell_type": "code",
   "execution_count": 9,
   "metadata": {},
   "outputs": [
    {
     "name": "stdout",
     "output_type": "stream",
     "text": [
      "MT\n"
     ]
    },
    {
     "name": "stderr",
     "output_type": "stream",
     "text": [
      "/Users/liujizhou/opt/anaconda3/lib/python3.8/site-packages/joblib/externals/loky/process_executor.py:688: UserWarning: A worker stopped while some jobs were given to the executor. This can be caused by a too short worker timeout or by a memory leak.\n",
      "  warnings.warn(\n"
     ]
    },
    {
     "name": "stdout",
     "output_type": "stream",
     "text": [
      "1.000 & 0.910 & 1.027 & 0.994 & 1.061 & 0.982 \\\\\n",
      "1.083 & 1.082 & 1.206 & 1.598 & 2.078 & 3.530 \\\\\n",
      "2.877 & 4.193 & 6.376 & 10.833 & 14.934 & 23.328 \\\\\n",
      "18.529 & 27.173 & 43.575 & 55.882 & 72.740 & 99.039 \\\\\n",
      "34.632 & 47.498 & 66.157 & 86.313 & 105.050 & 133.200 \\\\\n",
      "C\n",
      "8.719 & 9.915 & 8.939 & 8.688 & 9.160 & 9.372 \\\\\n",
      "39.862 & 40.833 & 41.964 & 43.136 & 40.743 & 41.661 \\\\\n",
      "82.635 & 80.093 & 77.194 & 76.094 & 77.294 & 75.385 \\\\\n",
      "150.794 & 151.074 & 158.889 & 153.514 & 162.579 & 152.250 \\\\\n",
      "191.086 & 198.797 & 198.302 & 187.129 & 186.745 & 189.368 \\\\\n",
      "MT2\n",
      "0.952 & 0.956 & 0.932 & 1.029 & 1.033 & 0.913 \\\\\n",
      "1.077 & 1.300 & 1.490 & 2.279 & 3.393 & 6.092 \\\\\n",
      "4.216 & 6.199 & 10.510 & 15.420 & 22.640 & 32.465 \\\\\n",
      "29.525 & 42.196 & 54.750 & 73.479 & 93.407 & 107.663 \\\\\n",
      "52.360 & 67.613 & 85.839 & 105.517 & 130.841 & 152.691 \\\\\n",
      "S4\n",
      "1.364 & 1.473 & 1.527 & 1.474 & 1.460 & 1.510 \\\\\n",
      "4.725 & 4.784 & 5.155 & 4.574 & 4.365 & 4.690 \\\\\n",
      "10.085 & 10.755 & 10.339 & 10.887 & 9.315 & 10.587 \\\\\n",
      "20.741 & 20.319 & 22.911 & 21.179 & 21.350 & 22.597 \\\\\n",
      "25.634 & 26.796 & 27.102 & 28.007 & 26.584 & 26.322 \\\\\n",
      "MP-B\n",
      "0.934 & 8.427 & 9.287 & 9.117 & 8.954 & 8.824 \\\\\n",
      "1.051 & 42.443 & 39.211 & 41.895 & 40.500 & 41.139 \\\\\n",
      "2.824 & 76.357 & 79.468 & 80.368 & 80.508 & 77.406 \\\\\n",
      "19.699 & 155.502 & 146.029 & 162.590 & 156.694 & 156.089 \\\\\n",
      "31.869 & 196.989 & 184.882 & 179.497 & 181.828 & 189.762 \\\\\n",
      "RE\n",
      "1.263 & 9.483 & 8.657 & 9.139 & 8.447 & 9.406 \\\\\n",
      "4.468 & 45.670 & 38.905 & 41.420 & 39.329 & 43.900 \\\\\n",
      "11.519 & 79.226 & 84.796 & 78.259 & 77.863 & 84.988 \\\\\n",
      "36.042 & 153.676 & 152.059 & 144.937 & 154.131 & 143.505 \\\\\n",
      "52.833 & 204.490 & 190.114 & 202.368 & 186.888 & 180.323 \\\\\n"
     ]
    }
   ],
   "source": [
    "from joblib import Parallel, delayed\n",
    "import multiprocessing\n",
    "# what are your inputs, and what operation do you want to\n",
    "# perform on each input. For example...\n",
    "designs = ['MT', 'C', 'MT2', 'S4', 'MP-B', 'RE']\n",
    "results = []\n",
    "\n",
    "num_cores = multiprocessing.cpu_count()\n",
    "for m in designs:\n",
    "    print(m)\n",
    "    qk_pairs = [(q,k) for q in [1,2,4,8,10] for k in [1,2,3,4,5,6]]\n",
    "    def processInput(qk):\n",
    "        q, k = qk\n",
    "        if m == 'MT2':\n",
    "            mse = risk(q, k, 1280, tau=0, ntrials=1000, more=True, design='MT')\n",
    "        else:\n",
    "            mse = risk(q, k, 1280, tau=0, ntrials=1000, more=False, design=m) \n",
    "        return (q,k,mse)\n",
    "    ret = Parallel(n_jobs=num_cores)(delayed(processInput)(i) for i in qk_pairs)\n",
    "    result = {(re[0], re[1]):re[2] for re in ret}\n",
    "    results.append(result)\n",
    "    baseline = results[0][(1,1)]\n",
    "    for q in [1,2,4,8,10]:\n",
    "        for k in [1,2,3,4,5,6]:\n",
    "            if k<6:\n",
    "                print(\"{:.3f} & \".format(result[(q,k)]/baseline), end = '')\n",
    "            else:\n",
    "                print(\"{:.3f} \\\\\\\\\".format(result[(q,k)]/baseline))"
   ]
  },
  {
   "cell_type": "markdown",
   "metadata": {},
   "source": [
    "MT\n",
    "1.000 & 0.910 & 1.027 & 0.994 & 1.061 & 0.982 \\\\\n",
    "1.083 & 1.082 & 1.206 & 1.598 & 2.078 & 3.530 \\\\\n",
    "2.877 & 4.193 & 6.376 & 10.833 & 14.934 & 23.328 \\\\\n",
    "18.529 & 27.173 & 43.575 & 55.882 & 72.740 & 99.039 \\\\\n",
    "34.632 & 47.498 & 66.157 & 86.313 & 105.050 & 133.200 \\\\\n",
    "C\n",
    "8.719 & 9.915 & 8.939 & 8.688 & 9.160 & 9.372 \\\\\n",
    "39.862 & 40.833 & 41.964 & 43.136 & 40.743 & 41.661 \\\\\n",
    "82.635 & 80.093 & 77.194 & 76.094 & 77.294 & 75.385 \\\\\n",
    "150.794 & 151.074 & 158.889 & 153.514 & 162.579 & 152.250 \\\\\n",
    "191.086 & 198.797 & 198.302 & 187.129 & 186.745 & 189.368 \\\\\n",
    "MT2\n",
    "0.952 & 0.956 & 0.932 & 1.029 & 1.033 & 0.913 \\\\\n",
    "1.077 & 1.300 & 1.490 & 2.279 & 3.393 & 6.092 \\\\\n",
    "4.216 & 6.199 & 10.510 & 15.420 & 22.640 & 32.465 \\\\\n",
    "29.525 & 42.196 & 54.750 & 73.479 & 93.407 & 107.663 \\\\\n",
    "52.360 & 67.613 & 85.839 & 105.517 & 130.841 & 152.691 \\\\\n",
    "S4\n",
    "1.364 & 1.473 & 1.527 & 1.474 & 1.460 & 1.510 \\\\\n",
    "4.725 & 4.784 & 5.155 & 4.574 & 4.365 & 4.690 \\\\\n",
    "10.085 & 10.755 & 10.339 & 10.887 & 9.315 & 10.587 \\\\\n",
    "20.741 & 20.319 & 22.911 & 21.179 & 21.350 & 22.597 \\\\\n",
    "25.634 & 26.796 & 27.102 & 28.007 & 26.584 & 26.322 \\\\\n",
    "MP-B\n",
    "0.934 & 8.427 & 9.287 & 9.117 & 8.954 & 8.824 \\\\\n",
    "1.051 & 42.443 & 39.211 & 41.895 & 40.500 & 41.139 \\\\\n",
    "2.824 & 76.357 & 79.468 & 80.368 & 80.508 & 77.406 \\\\\n",
    "19.699 & 155.502 & 146.029 & 162.590 & 156.694 & 156.089 \\\\\n",
    "31.869 & 196.989 & 184.882 & 179.497 & 181.828 & 189.762 \\\\\n",
    "RE\n",
    "1.263 & 9.483 & 8.657 & 9.139 & 8.447 & 9.406 \\\\\n",
    "4.468 & 45.670 & 38.905 & 41.420 & 39.329 & 43.900 \\\\\n",
    "11.519 & 79.226 & 84.796 & 78.259 & 77.863 & 84.988 \\\\\n",
    "36.042 & 153.676 & 152.059 & 144.937 & 154.131 & 143.505 \\\\\n",
    "52.833 & 204.490 & 190.114 & 202.368 & 186.888 & 180.323 \\\\\n"
   ]
  }
 ],
 "metadata": {
  "interpreter": {
   "hash": "eb1c31993c61ea452a7bffd5740eb69b379c0a174f93c7698ebeb3ef9ab8ebf4"
  },
  "kernelspec": {
   "display_name": "Python 3.8.5 ('base')",
   "language": "python",
   "name": "python3"
  },
  "language_info": {
   "codemirror_mode": {
    "name": "ipython",
    "version": 3
   },
   "file_extension": ".py",
   "mimetype": "text/x-python",
   "name": "python",
   "nbconvert_exporter": "python",
   "pygments_lexer": "ipython3",
   "version": "3.8.5"
  },
  "orig_nbformat": 4
 },
 "nbformat": 4,
 "nbformat_minor": 2
}
