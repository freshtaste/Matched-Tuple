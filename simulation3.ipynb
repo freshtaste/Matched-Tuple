{
 "cells": [
  {
   "cell_type": "code",
   "execution_count": 1,
   "metadata": {},
   "outputs": [],
   "source": [
    "import numpy as np\n",
    "from multiple_factor import DGP2, Inferece2\n",
    "from dgp import DGP\n",
    "\n",
    "def reject_prob(Xdim, num_factor, sample_size, tau=0, ntrials=1000, more=False, design='MT'):\n",
    "    phi_tau = np.zeros(ntrials)\n",
    "    for i in range(ntrials):\n",
    "        dgp = DGP2(num_factor, sample_size, Xdim, tau, more, design)\n",
    "        Y, D, tuple_idx = dgp.Y, dgp.D, dgp.tuple_idx\n",
    "        inf = Inferece2(Y, D, tuple_idx, design)\n",
    "        phi_tau[i] = inf.phi_tau\n",
    "    return np.mean(phi_tau)\n",
    "\n",
    "\n",
    "def risk(Xdim, num_factor, sample_size, tau=0, ntrials=1000, more=False, design='MT'):\n",
    "    mse = np.zeros(ntrials)\n",
    "    for i in range(ntrials):\n",
    "        dgp = DGP2(num_factor, sample_size, Xdim, tau, more, design)\n",
    "        Y, D, tuple_idx = dgp.Y, dgp.D, dgp.tuple_idx\n",
    "        ate = np.mean(Y[D[:,0]==1]) - np.mean(Y[D[:,0]==0])\n",
    "        mse[i] = (ate - tau)**2\n",
    "    return np.mean(mse)\n",
    "\n",
    "\n",
    "def test(q,k):\n",
    "    print(q,k)\n",
    "    print(risk(q, k, 1280, tau=0, ntrials=100, more=False, design='S4'))\n",
    "    print(risk(q, k, 1280, tau=0, ntrials=100, more=False, design='C'))\n",
    "    print(risk(q, k, 1280, tau=0, ntrials=100, more=False, design='RE'))\n",
    "    print(risk(q, k, 1280, tau=0, ntrials=100, more=False, design='MP-B'))\n",
    "    print(risk(q, k, 1280, tau=0, ntrials=100, more=False, design='MT'))\n",
    "\n",
    "#[test(q,k) for q in [1,2,4,8,10] for k in [1,2,3,4,5,6]]\n",
    "#test(1,2)\n",
    "#test(2,2)\n",
    "#test(10,6)"
   ]
  },
  {
   "cell_type": "code",
   "execution_count": 2,
   "metadata": {},
   "outputs": [
    {
     "name": "stdout",
     "output_type": "stream",
     "text": [
      "[(1, 1, 0.061), (1, 2, 0.068), (1, 3, 0.071), (1, 4, 0.049), (1, 5, 0.063), (1, 6, 0.046), (2, 1, 0.047), (2, 2, 0.046), (2, 3, 0.051), (2, 4, 0.065), (2, 5, 0.056), (2, 6, 0.059), (4, 1, 0.055), (4, 2, 0.048), (4, 3, 0.041), (4, 4, 0.055), (4, 5, 0.064), (4, 6, 0.053), (8, 1, 0.048), (8, 2, 0.064), (8, 3, 0.052), (8, 4, 0.052), (8, 5, 0.057), (8, 6, 0.056), (10, 1, 0.045), (10, 2, 0.069), (10, 3, 0.047), (10, 4, 0.049), (10, 5, 0.05), (10, 6, 0.072)]\n"
     ]
    }
   ],
   "source": [
    "print([(q,k,reject_prob(q,k,1280,tau=0,ntrials=1000,more=False, design='C')) for q in [1,2,4,8,10] for k in [1,2,3,4,5,6]])"
   ]
  },
  {
   "cell_type": "code",
   "execution_count": 3,
   "metadata": {},
   "outputs": [
    {
     "name": "stdout",
     "output_type": "stream",
     "text": [
      "[(1, 1, 0.226), (1, 2, 0.225), (1, 3, 0.205), (1, 4, 0.201), (1, 5, 0.242), (1, 6, 0.243), (2, 1, 0.08), (2, 2, 0.089), (2, 3, 0.072), (2, 4, 0.09), (2, 5, 0.093), (2, 6, 0.086), (4, 1, 0.067), (4, 2, 0.075), (4, 3, 0.08), (4, 4, 0.08), (4, 5, 0.073), (4, 6, 0.076), (8, 1, 0.082), (8, 2, 0.071), (8, 3, 0.072), (8, 4, 0.06), (8, 5, 0.065), (8, 6, 0.065), (10, 1, 0.057), (10, 2, 0.053), (10, 3, 0.054), (10, 4, 0.057), (10, 5, 0.065), (10, 6, 0.066)]\n"
     ]
    }
   ],
   "source": [
    "print([(q,k,reject_prob(q,k,1280,tau=0.02,ntrials=1000,more=False, design='C')) for q in [1,2,4,8,10] for k in [1,2,3,4,5,6]])"
   ]
  },
  {
   "cell_type": "code",
   "execution_count": 2,
   "metadata": {},
   "outputs": [
    {
     "name": "stdout",
     "output_type": "stream",
     "text": [
      "[(1, 1, 0.043), (1, 2, 0.057), (1, 3, 0.05), (1, 4, 0.061), (1, 5, 0.064), (1, 6, 0.068), (2, 1, 0.046), (2, 2, 0.053), (2, 3, 0.051), (2, 4, 0.055), (2, 5, 0.067), (2, 6, 0.078), (4, 1, 0.043), (4, 2, 0.053), (4, 3, 0.064), (4, 4, 0.053), (4, 5, 0.059), (4, 6, 0.09), (8, 1, 0.049), (8, 2, 0.053), (8, 3, 0.054), (8, 4, 0.052), (8, 5, 0.068), (8, 6, 0.068), (10, 1, 0.046), (10, 2, 0.051), (10, 3, 0.047), (10, 4, 0.058), (10, 5, 0.06), (10, 6, 0.092)]\n"
     ]
    }
   ],
   "source": [
    "print([(q,k,reject_prob(q,k,1280,tau=0,ntrials=1000,more=False, design='S4')) for q in [1,2,4,8,10] for k in [1,2,3,4,5,6]])"
   ]
  },
  {
   "cell_type": "code",
   "execution_count": 3,
   "metadata": {},
   "outputs": [
    {
     "name": "stdout",
     "output_type": "stream",
     "text": [
      "[(1, 1, 0.836), (1, 2, 0.828), (1, 3, 0.819), (1, 4, 0.833), (1, 5, 0.843), (1, 6, 0.881), (2, 1, 0.167), (2, 2, 0.17), (2, 3, 0.188), (2, 4, 0.194), (2, 5, 0.197), (2, 6, 0.246), (4, 1, 0.063), (4, 2, 0.083), (4, 3, 0.074), (4, 4, 0.09), (4, 5, 0.102), (4, 6, 0.12), (8, 1, 0.057), (8, 2, 0.063), (8, 3, 0.068), (8, 4, 0.078), (8, 5, 0.074), (8, 6, 0.09), (10, 1, 0.055), (10, 2, 0.071), (10, 3, 0.062), (10, 4, 0.065), (10, 5, 0.067), (10, 6, 0.09)]\n"
     ]
    }
   ],
   "source": [
    "print([(q,k,reject_prob(q,k,1280,tau=0.02,ntrials=1000,more=False, design='S4')) for q in [1,2,4,8,10] for k in [1,2,3,4,5,6]])"
   ]
  },
  {
   "cell_type": "markdown",
   "metadata": {},
   "source": [
    "designs = ['MT', 'C', 'MT2', 'S4', 'MP-B', 'RE']\n",
    "results = []\n",
    "\n",
    "for m in designs:\n",
    "    print(m)\n",
    "    if m == 'MT2':\n",
    "        result = {(q,k): risk(q, k, 1280, tau=0, ntrials=1000, more=True, design='MT') \n",
    "         for q in [1,2,4,8,10] for k in [1,2,3,4,5,6]}\n",
    "    else:\n",
    "        result = {(q,k): risk(q, k, 1280, tau=0, ntrials=1000, more=False, design=m) \n",
    "         for q in [1,2,4,8,10] for k in [1,2,3,4,5,6]}\n",
    "    results.append(result)\n",
    "    baseline = results[0][(1,1)]\n",
    "    for q in [1,2,4,8,10]:\n",
    "        for k in [1,2,3,4,5,6]:\n",
    "            if k<6:\n",
    "                print(\"{:.3f} & \".format(result[(q,k)]/baseline), end = '')\n",
    "            else:\n",
    "                print(\"{:.3f} \\\\\\\\\".format(result[(q,k)]/baseline))"
   ]
  },
  {
   "cell_type": "code",
   "execution_count": null,
   "metadata": {},
   "outputs": [],
   "source": [
    "from joblib import Parallel, delayed\n",
    "import multiprocessing\n",
    "# what are your inputs, and what operation do you want to\n",
    "# perform on each input. For example...\n",
    "designs = ['MT', 'C', 'MT2', 'S4', 'MP-B', 'RE']\n",
    "results = []\n",
    "\n",
    "num_cores = multiprocessing.cpu_count()\n",
    "for m in designs:\n",
    "    print(m)\n",
    "    qk_pairs = [(q,k) for q in [1,2,4,8,10] for k in [1,2,3,4,5,6]]\n",
    "    def processInput(qk):\n",
    "        q, k = qk\n",
    "        if m == 'MT2':\n",
    "            mse = risk(q, k, 1280, tau=0, ntrials=1000, more=True, design='MT')\n",
    "        else:\n",
    "            mse = risk(q, k, 1280, tau=0, ntrials=1000, more=False, design=m) \n",
    "        return (q,k,mse)\n",
    "    ret = Parallel(n_jobs=num_cores)(delayed(processInput)(i) for i in qk_pairs)\n",
    "    result = {(re[0], re[1]):re[2] for re in ret}\n",
    "    results.append(result)\n",
    "    baseline = results[0][(1,1)]\n",
    "    #for q in [1,2,4,8,10]:\n",
    "    #    for k in [1,2,3,4,5,6]:\n",
    "    #        if k<6:\n",
    "    #            print(\"{:.3f} & \".format(result[(q,k)]/baseline), end = '')\n",
    "    #        else:\n",
    "    #            print(\"{:.3f} \\\\\\\\\".format(result[(q,k)]/baseline))"
   ]
  },
  {
   "cell_type": "code",
   "execution_count": 12,
   "metadata": {},
   "outputs": [
    {
     "name": "stdout",
     "output_type": "stream",
     "text": [
      "MT\n",
      "1.00 & 0.91 & 1.03 & 0.99 & 1.06 & 0.98 \\\\\n",
      "1.08 & 1.08 & 1.21 & 1.60 & 2.08 & 3.53 \\\\\n",
      "2.88 & 4.19 & 6.38 & 10.83 & 14.93 & 23.33 \\\\\n",
      "18.53 & 27.17 & 43.58 & 55.88 & 72.74 & 99.04 \\\\\n",
      "34.63 & 47.50 & 66.16 & 86.31 & 105.05 & 133.20 \\\\\n",
      "C\n",
      "8.72 & 9.91 & 8.94 & 8.69 & 9.16 & 9.37 \\\\\n",
      "39.86 & 40.83 & 41.96 & 43.14 & 40.74 & 41.66 \\\\\n",
      "82.63 & 80.09 & 77.19 & 76.09 & 77.29 & 75.39 \\\\\n",
      "150.79 & 151.07 & 158.89 & 153.51 & 162.58 & 152.25 \\\\\n",
      "191.09 & 198.80 & 198.30 & 187.13 & 186.74 & 189.37 \\\\\n",
      "MT2\n",
      "0.95 & 0.96 & 0.93 & 1.03 & 1.03 & 0.91 \\\\\n",
      "1.08 & 1.30 & 1.49 & 2.28 & 3.39 & 6.09 \\\\\n",
      "4.22 & 6.20 & 10.51 & 15.42 & 22.64 & 32.47 \\\\\n",
      "29.52 & 42.20 & 54.75 & 73.48 & 93.41 & 107.66 \\\\\n",
      "52.36 & 67.61 & 85.84 & 105.52 & 130.84 & 152.69 \\\\\n",
      "S4\n",
      "1.36 & 1.47 & 1.53 & 1.47 & 1.46 & 1.51 \\\\\n",
      "4.73 & 4.78 & 5.15 & 4.57 & 4.36 & 4.69 \\\\\n",
      "10.09 & 10.75 & 10.34 & 10.89 & 9.31 & 10.59 \\\\\n",
      "20.74 & 20.32 & 22.91 & 21.18 & 21.35 & 22.60 \\\\\n",
      "25.63 & 26.80 & 27.10 & 28.01 & 26.58 & 26.32 \\\\\n",
      "MP-B\n",
      "0.93 & 8.43 & 9.29 & 9.12 & 8.95 & 8.82 \\\\\n",
      "1.05 & 42.44 & 39.21 & 41.90 & 40.50 & 41.14 \\\\\n",
      "2.82 & 76.36 & 79.47 & 80.37 & 80.51 & 77.41 \\\\\n",
      "19.70 & 155.50 & 146.03 & 162.59 & 156.69 & 156.09 \\\\\n",
      "31.87 & 196.99 & 184.88 & 179.50 & 181.83 & 189.76 \\\\\n",
      "RE\n",
      "1.26 & 9.48 & 8.66 & 9.14 & 8.45 & 9.41 \\\\\n",
      "4.47 & 45.67 & 38.90 & 41.42 & 39.33 & 43.90 \\\\\n",
      "11.52 & 79.23 & 84.80 & 78.26 & 77.86 & 84.99 \\\\\n",
      "36.04 & 153.68 & 152.06 & 144.94 & 154.13 & 143.51 \\\\\n",
      "52.83 & 204.49 & 190.11 & 202.37 & 186.89 & 180.32 \\\\\n"
     ]
    }
   ],
   "source": [
    "for i, m in enumerate(designs):\n",
    "    print(m)\n",
    "    baseline = results[0][(1,1)]\n",
    "    result = results[i]\n",
    "    for q in [1,2,4,8,10]:\n",
    "        for k in [1,2,3,4,5,6]:\n",
    "            if k<6:\n",
    "                print(\"{:.2f} & \".format(result[(q,k)]/baseline), end = '')\n",
    "            else:\n",
    "                print(\"{:.2f} \\\\\\\\\".format(result[(q,k)]/baseline))"
   ]
  },
  {
   "cell_type": "markdown",
   "metadata": {},
   "source": [
    "MT\n",
    "1.00 & 0.91 & 1.03 & 0.99 & 1.06 & 0.98 \\\\\n",
    "1.08 & 1.08 & 1.21 & 1.60 & 2.08 & 3.53 \\\\\n",
    "2.88 & 4.19 & 6.38 & 10.83 & 14.93 & 23.33 \\\\\n",
    "18.53 & 27.17 & 43.58 & 55.88 & 72.74 & 99.04 \\\\\n",
    "34.63 & 47.50 & 66.16 & 86.31 & 105.05 & 133.20 \\\\\n",
    "C\n",
    "8.72 & 9.91 & 8.94 & 8.69 & 9.16 & 9.37 \\\\\n",
    "39.86 & 40.83 & 41.96 & 43.14 & 40.74 & 41.66 \\\\\n",
    "82.63 & 80.09 & 77.19 & 76.09 & 77.29 & 75.39 \\\\\n",
    "150.79 & 151.07 & 158.89 & 153.51 & 162.58 & 152.25 \\\\\n",
    "191.09 & 198.80 & 198.30 & 187.13 & 186.74 & 189.37 \\\\\n",
    "MT2\n",
    "0.95 & 0.96 & 0.93 & 1.03 & 1.03 & 0.91 \\\\\n",
    "1.08 & 1.30 & 1.49 & 2.28 & 3.39 & 6.09 \\\\\n",
    "4.22 & 6.20 & 10.51 & 15.42 & 22.64 & 32.47 \\\\\n",
    "29.52 & 42.20 & 54.75 & 73.48 & 93.41 & 107.66 \\\\\n",
    "52.36 & 67.61 & 85.84 & 105.52 & 130.84 & 152.69 \\\\\n",
    "S4\n",
    "1.49 & 1.47 & 1.41 & 1.39 & 1.42 & 1.46 \\\\\n",
    "11.14 & 11.21 & 11.40 & 11.07 & 10.81 & 10.50 \\\\\n",
    "43.71 & 48.87 & 47.62 & 48.38 & 48.81 & 50.79 \\\\\n",
    "126.12 & 116.34 & 133.74 & 127.31 & 120.85 & 129.07 \\\\\n",
    "172.83 & 167.25 & 168.09 & 167.19 & 155.21 & 165.91 \\\\\n",
    "MP-B\n",
    "0.93 & 8.43 & 9.29 & 9.12 & 8.95 & 8.82 \\\\\n",
    "1.05 & 42.44 & 39.21 & 41.90 & 40.50 & 41.14 \\\\\n",
    "2.82 & 76.36 & 79.47 & 80.37 & 80.51 & 77.41 \\\\\n",
    "19.70 & 155.50 & 146.03 & 162.59 & 156.69 & 156.09 \\\\\n",
    "31.87 & 196.99 & 184.88 & 179.50 & 181.83 & 189.76 \\\\\n",
    "RE\n",
    "1.26 & 9.48 & 8.66 & 9.14 & 8.45 & 9.41 \\\\\n",
    "4.47 & 45.67 & 38.90 & 41.42 & 39.33 & 43.90 \\\\\n",
    "11.52 & 79.23 & 84.80 & 78.26 & 77.86 & 84.99 \\\\\n",
    "36.04 & 153.68 & 152.06 & 144.94 & 154.13 & 143.51 \\\\\n",
    "52.83 & 204.49 & 190.11 & 202.37 & 186.89 & 180.32 \\\\"
   ]
  }
 ],
 "metadata": {
  "interpreter": {
   "hash": "eb1c31993c61ea452a7bffd5740eb69b379c0a174f93c7698ebeb3ef9ab8ebf4"
  },
  "kernelspec": {
   "display_name": "Python 3.8.5 ('base')",
   "language": "python",
   "name": "python3"
  },
  "language_info": {
   "codemirror_mode": {
    "name": "ipython",
    "version": 3
   },
   "file_extension": ".py",
   "mimetype": "text/x-python",
   "name": "python",
   "nbconvert_exporter": "python",
   "pygments_lexer": "ipython3",
   "version": "3.8.5"
  },
  "orig_nbformat": 4
 },
 "nbformat": 4,
 "nbformat_minor": 2
}
