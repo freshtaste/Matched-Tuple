{
 "cells": [
  {
   "cell_type": "code",
   "execution_count": 1,
   "metadata": {},
   "outputs": [
    {
     "name": "stdout",
     "output_type": "stream",
     "text": [
      "1 1 1\n"
     ]
    },
    {
     "name": "stderr",
     "output_type": "stream",
     "text": [
      "/opt/anaconda3/lib/python3.8/site-packages/pandas/core/apply.py:290: UserWarning: `x` isn't a recognized object; `shuffle` is not guaranteed to behave correctly. E.g., non-numpy array/tensor objects with view semantics may contain duplicates after shuffling.\n",
      "  results[i] = self.f(v)\n"
     ]
    }
   ],
   "source": [
    "from dgp import DGP_Finite\n",
    "from inference import Inference2, Inference\n",
    "import numpy as np\n",
    "import pandas as pd \n",
    "\n",
    "# generate multuple sample size, multiple model designs, multiple inference method,\n",
    "# a single estimator\n",
    "dgp = DGP_Finite('1',1000)\n",
    "Yobs, D, A = dgp.get_data()\n",
    "inf = Inference2(Yobs, D, A, dgp.cluster, dgp.tuple_idx, dgp.tau10)\n",
    "print(inf.inference('mp'), inf.inference('robust'), inf.inference('clustered'))\n",
    "\n",
    "def cover_rate(sample_size=1000, modelY='1', ntrials=2000):\n",
    "    cover = np.zeros((ntrials, 3))\n",
    "    cf_length = np.zeros((ntrials, 3))\n",
    "    for i in range(2000):\n",
    "        dgp = DGP_Finite(modelY, sample_size)\n",
    "        Yobs, D, A = dgp.get_data()\n",
    "        inf = Inference2(Yobs, D, A, dgp.cluster, dgp.tuple_idx, dgp.tau10)\n",
    "        cover[i,0] = inf.inference('mp')\n",
    "        cf_length[i,0] = inf.se_tau10*19.6*2\n",
    "        cover[i,1] = inf.inference('robust')\n",
    "        cf_length[i,1] = inf.se_tau10*19.6*2\n",
    "        cover[i,2] = inf.inference('clustered')\n",
    "        cf_length[i,2] = inf.se_tau10*19.6*2\n",
    "    return np.mean(cover, axis=0), np.mean(cf_length, axis=0)\n",
    "\n",
    "\n",
    "def cover_rate_finite(sample_size=1000, modelY='1', ntrials=2000):\n",
    "    cover = np.zeros((ntrials, 3))\n",
    "    cf_length = np.zeros((ntrials, 3))\n",
    "    dgp = DGP_Finite(modelY, sample_size)\n",
    "    for i in range(2000):\n",
    "        Yobs, D, A = dgp.get_data()\n",
    "        inf = Inference2(Yobs, D, A, dgp.cluster, dgp.tuple_idx, dgp.tau10)\n",
    "        cover[i,0] = inf.inference('mp')\n",
    "        cf_length[i,0] = inf.se_tau10*19.6*2\n",
    "        cover[i,1] = inf.inference('robust')\n",
    "        cf_length[i,1] = inf.se_tau10*19.6*2\n",
    "        cover[i,2] = inf.inference('clustered')\n",
    "        cf_length[i,2] = inf.se_tau10*19.6*2\n",
    "    return np.mean(cover, axis=0), np.mean(cf_length, axis=0)"
   ]
  },
  {
   "cell_type": "code",
   "execution_count": 3,
   "metadata": {},
   "outputs": [
    {
     "name": "stdout",
     "output_type": "stream",
     "text": [
      "[[ 2.09059733  1.29988532  0.88448906  0.50540412  0.35053067]\n",
      " [ 5.23699319  3.7559094   2.65925572  1.54373362  1.07086228]\n",
      " [ 1.88945522  1.27257969  0.88572448  0.50702789  0.35088164]\n",
      " [ 5.03755465  3.43847842  2.40605648  1.38579312  0.95999242]\n",
      " [ 7.43937286  5.3316549   3.77710926  2.18493765  1.5149678 ]\n",
      " [ 9.78851794  6.70140252  4.64574453  2.64675303  1.82744625]\n",
      " [ 4.63943578  3.19280445  2.24160142  1.29275434  0.89540124]\n",
      " [ 6.78102924  4.85952735  3.45384519  1.99975768  1.38621195]\n",
      " [ 9.02353294  6.17612772  4.29313105  2.44892327  1.69085264]\n",
      " [ 4.66767834  3.18989249  2.24252315  1.29276614  0.8962576 ]\n",
      " [ 6.33686301  4.52819296  3.22283598  1.86563087  1.29437254]\n",
      " [ 9.04884341  6.16725645  4.2942263   2.44887235  1.69246087]\n",
      " [19.34535669 10.86693211  6.07844366  2.56419598  1.54149014]\n",
      " [25.20717721 18.52031235 13.32864435  7.7258967   5.35501551]\n",
      " [18.38784834 11.36629217  7.25818919  3.79970228  2.55173925]\n",
      " [ 5.19003935  3.57732239  2.50334612  1.44709115  1.00366874]\n",
      " [ 7.54201328  5.40832755  3.83750728  2.22485315  1.54385429]\n",
      " [ 9.83518712  6.75803256  4.68675168  2.67724975  1.85207563]]\n"
     ]
    }
   ],
   "source": [
    "from joblib import Parallel, delayed\n",
    "import multiprocessing\n",
    "\n",
    "modelYs = ['1','2','3','4','5','6']\n",
    "sample_sizes = [50, 100, 200, 500, 1000]\n",
    "\n",
    "sample_sizes = [40, 80, 160, 480, 1000]\n",
    "\n",
    "qk_pairs = [(q,k) for q in modelYs for k in sample_sizes]\n",
    "def processInput(qk):\n",
    "    q, k = qk\n",
    "    cover, cf = cover_rate(k, q)\n",
    "    return (q,k,cover,cf)\n",
    "num_cores = multiprocessing.cpu_count()\n",
    "results = Parallel(n_jobs=num_cores)(delayed(processInput)(i) for i in qk_pairs)\n",
    "output = np.zeros((len(modelYs)*3,len(sample_sizes)))\n",
    "cf_output = np.zeros((len(modelYs)*3,len(sample_sizes)))\n",
    "for (q,k,cover,cf) in results:\n",
    "    i = int(q)-1\n",
    "    j = sample_sizes.index(k)\n",
    "    output[i*3:i*3+3,j] = cover\n",
    "    cf_output[i*3:i*3+3,j] = cf\n",
    "\n",
    "output = np.zeros((len(modelYs)*3*2,len(sample_sizes)))\n",
    "for (q,k,cover,cf) in results:\n",
    "    i = int(q)-1\n",
    "    j = sample_sizes.index(k)\n",
    "    out = [cover[0], cf[0], cover[1], cf[1], cover[2], cf[2]]\n",
    "    output[i*6:i*6+6,j] = out\n",
    "print(output)\n",
    "pd.DataFrame(output).to_csv(\"finite_pop_cover_rate_cf.csv\")"
   ]
  }
 ],
 "metadata": {
  "kernelspec": {
   "display_name": "base",
   "language": "python",
   "name": "python3"
  },
  "language_info": {
   "codemirror_mode": {
    "name": "ipython",
    "version": 3
   },
   "file_extension": ".py",
   "mimetype": "text/x-python",
   "name": "python",
   "nbconvert_exporter": "python",
   "pygments_lexer": "ipython3",
   "version": "3.8.5"
  },
  "orig_nbformat": 4,
  "vscode": {
   "interpreter": {
    "hash": "eb1c31993c61ea452a7bffd5740eb69b379c0a174f93c7698ebeb3ef9ab8ebf4"
   }
  }
 },
 "nbformat": 4,
 "nbformat_minor": 2
}
