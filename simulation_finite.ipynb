{
 "cells": [
  {
   "cell_type": "code",
   "execution_count": 1,
   "metadata": {},
   "outputs": [
    {
     "name": "stdout",
     "output_type": "stream",
     "text": [
      "[ 0.28511803 -2.94985339 -0.79622811  1.30075908 -0.37740243 -0.45671649\n",
      "  1.12291558 -1.36328926 -0.06727684  0.92025191]\n",
      "1 1 1\n"
     ]
    }
   ],
   "source": [
    "from dgp import DGP_Finite, DGP\n",
    "from inference import Inference2, Inference\n",
    "import numpy as np\n",
    "import pandas as pd \n",
    "\n",
    "# generate multuple sample size, multiple model designs, multiple inference method,\n",
    "# a single estimator\n",
    "dgp = DGP_Finite('1',1000)\n",
    "Yobs, D, A = dgp.get_data()\n",
    "inf = Inference2(Yobs, D, A, dgp.cluster, dgp.tuple_idx, dgp.tau10)\n",
    "print(inf.inference('mp'), inf.inference('robust'), inf.inference('clustered'))\n",
    "\n",
    "def cover_rate(sample_size=1000, modelY='1', ntrials=2000):\n",
    "    cover = np.zeros((ntrials, 3))\n",
    "    cf_length = np.zeros((ntrials, 3))\n",
    "    for i in range(ntrials):\n",
    "        dgp = DGP(modelY, '8', sample_size)\n",
    "        Yobs, D, A = dgp.get_data()\n",
    "        inf = Inference2(Yobs, D, A, dgp.cluster, dgp.tuple_idx, dgp.tau)\n",
    "        #inf1 = Inference(dgp.Y, dgp.D, dgp.A, '8', tuple_idx=dgp.tuple_idx, tau=dgp.tau)\n",
    "        #cover[i,0] = 1 - inf1.inference()[1]\n",
    "        #cf_length[i,0] = inf1.se_tau10*1.96*2\n",
    "        #inf.inference('mp')\n",
    "        #print(inf.se_tau10 - inf1.se_tau10)\n",
    "        cover[i,0] = inf.inference('mp')\n",
    "        cf_length[i,0] = inf.se_tau10*1.96*2\n",
    "        cover[i,1] = inf.inference('robust')\n",
    "        cf_length[i,1] = inf.se_tau10*1.96*2\n",
    "        cover[i,2] = inf.inference('clustered')\n",
    "        cf_length[i,2] = inf.se_tau10*1.96*2\n",
    "    return np.mean(cover, axis=0), np.mean(cf_length, axis=0)\n",
    "\n",
    "\n",
    "def cover_rate_finite(sample_size=1000, modelY='1', ntrials=2000):\n",
    "    cover = np.zeros((ntrials, 3))\n",
    "    cf_length = np.zeros((ntrials, 3))\n",
    "    dgp = DGP_Finite(modelY, sample_size)\n",
    "    for i in range(ntrials):\n",
    "        Yobs, D, A = dgp.get_data()\n",
    "        inf = Inference2(Yobs, D, A, dgp.cluster, dgp.tuple_idx, dgp.tau10)\n",
    "        cover[i,0] = inf.inference('mp')\n",
    "        cf_length[i,0] = inf.se_tau10*1.96*2\n",
    "        cover[i,1] = inf.inference('robust')\n",
    "        cf_length[i,1] = inf.se_tau10*1.96*2\n",
    "        cover[i,2] = inf.inference('clustered')\n",
    "        cf_length[i,2] = inf.se_tau10*1.96*2\n",
    "    return np.mean(cover, axis=0), np.mean(cf_length, axis=0)"
   ]
  },
  {
   "cell_type": "code",
   "execution_count": 2,
   "metadata": {},
   "outputs": [
    {
     "name": "stdout",
     "output_type": "stream",
     "text": [
      "[[0.894      0.936      0.948      0.9415     0.949     ]\n",
      " [1.90998046 1.29848517 0.85468807 0.47237049 0.34841223]\n",
      " [0.9425     0.9795     0.99       0.9935     0.994     ]\n",
      " [2.22653858 1.65988931 1.12011495 0.67076286 0.49253928]\n",
      " [0.928      0.937      0.944      0.94       0.95      ]\n",
      " [2.1806547  1.32819684 0.84854998 0.46729405 0.35137158]\n",
      " [0.9445     0.932      0.961      0.95       0.955     ]\n",
      " [1.64279772 1.23539943 0.950942   0.50093023 0.34734266]\n",
      " [0.9935     0.987      0.997      0.997      0.9975    ]\n",
      " [2.3633251  1.6693804  1.347768   0.76191486 0.53695825]\n",
      " [0.928      0.943      0.9505     0.9455     0.951     ]\n",
      " [1.64843893 1.31121676 0.9056516  0.49722379 0.34360742]\n",
      " [1.         0.995      0.9965     0.9875     0.9945    ]\n",
      " [2.6327793  1.72854596 1.12182745 0.66385    0.45228325]\n",
      " [1.         0.9995     1.         0.999      1.        ]\n",
      " [2.85566206 2.41606353 1.57099034 0.87885795 0.64004041]\n",
      " [1.         1.         1.         1.         1.        ]\n",
      " [3.65877927 2.65948911 1.76503682 1.00365409 0.70156518]\n",
      " [0.9765     0.9635     0.9545     0.9625     0.966     ]\n",
      " [2.18753354 1.29115229 0.88890354 0.53395271 0.36964364]\n",
      " [0.97       0.976      0.9735     0.977      0.982     ]\n",
      " [2.1036065  1.39365014 0.96788749 0.58124635 0.40732195]\n",
      " [0.9685     0.9755     0.9785     0.9845     0.9875    ]\n",
      " [2.26728131 1.40633235 1.02892143 0.61757256 0.42669768]\n",
      " [0.9715     0.98       0.956      0.9635     0.967     ]\n",
      " [2.11077879 1.57470591 0.94268015 0.56884221 0.3725188 ]\n",
      " [0.9905     0.987      0.9865     0.9855     0.988     ]\n",
      " [2.32755904 1.69098256 1.1473527  0.652884   0.44371426]\n",
      " [0.983      0.981      0.9855     0.988      0.9885    ]\n",
      " [2.26450778 1.68827116 1.16642955 0.67452334 0.45499154]\n",
      " [0.924      0.955      0.973      0.9815     0.9685    ]\n",
      " [4.33479858 3.26198664 2.37231296 1.32273833 1.01618807]\n",
      " [0.9605     0.9645     0.983      0.9915     0.9825    ]\n",
      " [4.6973567  3.38294259 2.54829518 1.46985029 1.10412767]\n",
      " [0.9735     0.9755     0.991      0.993      0.9865    ]\n",
      " [5.58820853 3.62178713 2.76634696 1.53268868 1.14783221]]\n"
     ]
    }
   ],
   "source": [
    "from joblib import Parallel, delayed\n",
    "import multiprocessing\n",
    "\n",
    "modelYs = ['1','2','3','4','5','6']\n",
    "sample_sizes = [50, 100, 200, 500, 1000]\n",
    "\n",
    "sample_sizes = [40, 80, 160, 480, 1000]\n",
    "\n",
    "qk_pairs = [(q,k) for q in modelYs for k in sample_sizes]\n",
    "def processInput(qk):\n",
    "    q, k = qk\n",
    "    cover, cf = cover_rate_finite(k, q)\n",
    "    return (q,k,cover,cf)\n",
    "num_cores = multiprocessing.cpu_count()\n",
    "results = Parallel(n_jobs=num_cores)(delayed(processInput)(i) for i in qk_pairs)\n",
    "output = np.zeros((len(modelYs)*3,len(sample_sizes)))\n",
    "cf_output = np.zeros((len(modelYs)*3,len(sample_sizes)))\n",
    "for (q,k,cover,cf) in results:\n",
    "    i = int(q)-1\n",
    "    j = sample_sizes.index(k)\n",
    "    output[i*3:i*3+3,j] = cover\n",
    "    cf_output[i*3:i*3+3,j] = cf\n",
    "\n",
    "output = np.zeros((len(modelYs)*3*2,len(sample_sizes)))\n",
    "for (q,k,cover,cf) in results:\n",
    "    i = int(q)-1\n",
    "    j = sample_sizes.index(k)\n",
    "    out = [cover[0], cf[0], cover[1], cf[1], cover[2], cf[2]]\n",
    "    output[i*6:i*6+6,j] = out\n",
    "print(output)\n",
    "pd.DataFrame(output).to_csv(\"finite_pop_cover_rate_cf.csv\")"
   ]
  },
  {
   "cell_type": "code",
   "execution_count": 3,
   "metadata": {},
   "outputs": [
    {
     "name": "stdout",
     "output_type": "stream",
     "text": [
      "[[0.9395     0.942      0.9495     0.949      0.95      ]\n",
      " [1.79995664 1.25066195 0.88306902 0.50508567 0.350895  ]\n",
      " [0.985      0.9925     0.9925     0.9935     0.994     ]\n",
      " [2.36526676 1.7121038  1.23071611 0.71326964 0.49485359]\n",
      " [0.934      0.9445     0.95       0.9505     0.95      ]\n",
      " [1.80693924 1.26169121 0.88477037 0.50619671 0.35101611]\n",
      " [0.931      0.941      0.954      0.9565     0.949     ]\n",
      " [1.88942156 1.29918163 0.89433633 0.50915378 0.35191122]\n",
      " [0.9855     0.989      0.996      0.9965     0.9935    ]\n",
      " [2.47362646 1.79678045 1.29010987 0.74979274 0.52253851]\n",
      " [0.926      0.936      0.947      0.9535     0.9475    ]\n",
      " [1.86727011 1.28244983 0.89109521 0.50719925 0.35162989]\n",
      " [0.948      0.9335     0.9455     0.9405     0.9495    ]\n",
      " [2.50503519 1.71579346 1.18794601 0.67729913 0.4696091 ]\n",
      " [0.983      0.9845     0.988      0.9925     0.9915    ]\n",
      " [3.08043487 2.23578224 1.58990003 0.92202029 0.6411362 ]\n",
      " [0.994      0.995      0.9945     0.998      0.9985    ]\n",
      " [3.75553569 2.6013351  1.80604588 1.03141742 0.7148047 ]\n",
      " [0.9285     0.9475     0.943      0.9535     0.9545    ]\n",
      " [1.8785023  1.31324813 0.92737491 0.53560302 0.37168549]\n",
      " [0.936      0.9595     0.961      0.969      0.973     ]\n",
      " [1.91562199 1.39818511 1.00429125 0.58467597 0.40629567]\n",
      " [0.952      0.968      0.9695     0.978      0.98      ]\n",
      " [2.19586326 1.52891357 1.07785981 0.61801577 0.42873995]\n",
      " [0.9345     0.953      0.9505     0.9485     0.9495    ]\n",
      " [2.01967178 1.3892438  0.96478363 0.55066722 0.38085539]\n",
      " [0.9495     0.9715     0.9775     0.983      0.9795    ]\n",
      " [2.15005312 1.56505139 1.11794501 0.6507466  0.4513254 ]\n",
      " [0.967      0.9765     0.978      0.982      0.9805    ]\n",
      " [2.41748026 1.66306028 1.15838417 0.66134167 0.4577368 ]\n",
      " [0.9255     0.921      0.9365     0.9415     0.942     ]\n",
      " [4.68985103 3.32447228 2.39887601 1.38913513 0.9615176 ]\n",
      " [0.9465     0.95       0.962      0.965      0.961     ]\n",
      " [4.92857565 3.60532528 2.61642715 1.52310591 1.05617798]\n",
      " [0.962      0.963      0.967      0.9705     0.9705    ]\n",
      " [5.52929058 3.90068971 2.76877704 1.59321682 1.10416799]]\n"
     ]
    }
   ],
   "source": [
    "from joblib import Parallel, delayed\n",
    "import multiprocessing\n",
    "\n",
    "modelYs = ['1','2','3','4','5','6']\n",
    "sample_sizes = [50, 100, 200, 500, 1000]\n",
    "\n",
    "sample_sizes = [40, 80, 160, 480, 1000]\n",
    "\n",
    "qk_pairs = [(q,k) for q in modelYs for k in sample_sizes]\n",
    "def processInput(qk):\n",
    "    q, k = qk\n",
    "    cover, cf = cover_rate(k, q)\n",
    "    return (q,k,cover,cf)\n",
    "num_cores = multiprocessing.cpu_count()\n",
    "results = Parallel(n_jobs=num_cores)(delayed(processInput)(i) for i in qk_pairs)\n",
    "output = np.zeros((len(modelYs)*3,len(sample_sizes)))\n",
    "cf_output = np.zeros((len(modelYs)*3,len(sample_sizes)))\n",
    "for (q,k,cover,cf) in results:\n",
    "    i = int(q)-1\n",
    "    j = sample_sizes.index(k)\n",
    "    output[i*3:i*3+3,j] = cover\n",
    "    cf_output[i*3:i*3+3,j] = cf\n",
    "\n",
    "output = np.zeros((len(modelYs)*3*2,len(sample_sizes)))\n",
    "for (q,k,cover,cf) in results:\n",
    "    i = int(q)-1\n",
    "    j = sample_sizes.index(k)\n",
    "    out = [cover[0], cf[0], cover[1], cf[1], cover[2], cf[2]]\n",
    "    output[i*6:i*6+6,j] = out\n",
    "print(output)\n",
    "pd.DataFrame(output).to_csv(\"sup_pop_cover_rate_cf.csv\")"
   ]
  },
  {
   "cell_type": "code",
   "execution_count": 4,
   "metadata": {},
   "outputs": [
    {
     "name": "stdout",
     "output_type": "stream",
     "text": [
      "[ 0.10373565 -0.64239603  0.49839301 -0.26575847 -0.4254577  -0.20111127\n",
      "  0.00340742 -0.77378826  0.33024988  1.42987445]\n"
     ]
    },
    {
     "data": {
      "text/plain": [
       "(array([0.94  , 0.9935, 0.9425]), array([0.34852694, 0.49391664, 0.35096135]))"
      ]
     },
     "execution_count": 4,
     "metadata": {},
     "output_type": "execute_result"
    }
   ],
   "source": [
    "cover_rate_finite(1000,'1')\n"
   ]
  }
 ],
 "metadata": {
  "kernelspec": {
   "display_name": "base",
   "language": "python",
   "name": "python3"
  },
  "language_info": {
   "codemirror_mode": {
    "name": "ipython",
    "version": 3
   },
   "file_extension": ".py",
   "mimetype": "text/x-python",
   "name": "python",
   "nbconvert_exporter": "python",
   "pygments_lexer": "ipython3",
   "version": "3.8.5"
  },
  "orig_nbformat": 4,
  "vscode": {
   "interpreter": {
    "hash": "eb1c31993c61ea452a7bffd5740eb69b379c0a174f93c7698ebeb3ef9ab8ebf4"
   }
  }
 },
 "nbformat": 4,
 "nbformat_minor": 2
}
