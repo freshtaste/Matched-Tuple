{
 "cells": [
  {
   "cell_type": "code",
   "execution_count": 1,
   "metadata": {},
   "outputs": [
    {
     "name": "stdout",
     "output_type": "stream",
     "text": [
      "1 1 1\n"
     ]
    },
    {
     "name": "stderr",
     "output_type": "stream",
     "text": [
      "/opt/anaconda3/lib/python3.8/site-packages/pandas/core/apply.py:290: UserWarning: `x` isn't a recognized object; `shuffle` is not guaranteed to behave correctly. E.g., non-numpy array/tensor objects with view semantics may contain duplicates after shuffling.\n",
      "  results[i] = self.f(v)\n"
     ]
    }
   ],
   "source": [
    "from dgp import DGP_Finite\n",
    "from inference import Inference2, Inference\n",
    "import numpy as np\n",
    "import pandas as pd \n",
    "\n",
    "# generate multuple sample size, multiple model designs, multiple inference method,\n",
    "# a single estimator\n",
    "dgp = DGP_Finite('1',1000)\n",
    "Yobs, D, A = dgp.get_data()\n",
    "inf = Inference2(Yobs, D, A, dgp.cluster, dgp.tuple_idx, dgp.tau10)\n",
    "print(inf.inference('mp'), inf.inference('robust'), inf.inference('clustered'))\n",
    "\n",
    "def cover_rate(sample_size=1000, modelY='1', ntrials=2000):\n",
    "    cover = np.zeros((ntrials, 3))\n",
    "    cf_length = np.zeros((ntrials, 3))\n",
    "    for i in range(2000):\n",
    "        dgp = DGP_Finite(modelY, sample_size)\n",
    "        Yobs, D, A = dgp.get_data()\n",
    "        inf = Inference2(Yobs, D, A, dgp.cluster, dgp.tuple_idx, dgp.tau10)\n",
    "        cover[i,0] = inf.inference('mp')\n",
    "        cf_length[i,0] = inf.se_tau10*19.6*2\n",
    "        cover[i,1] = inf.inference('robust')\n",
    "        cf_length[i,1] = inf.se_tau10*19.6*2\n",
    "        cover[i,2] = inf.inference('clustered')\n",
    "        cf_length[i,2] = inf.se_tau10*19.6*2\n",
    "    #tmp = cover[:,0] - cover[:,2]\n",
    "    #print(tmp[tmp>0], cover[:,0][tmp>0], cover[:,2][tmp>0])\n",
    "    #print(np.mean(tmp>0))\n",
    "    return np.mean(cover, axis=0), np.mean(cf_length, axis=0)"
   ]
  },
  {
   "cell_type": "code",
   "execution_count": 2,
   "metadata": {},
   "outputs": [],
   "source": [
    "modelYs = ['1','2','3','4','5','6']\n",
    "sample_sizes = [50, 100, 200, 500, 1000]\n",
    "#modelYs = ['1']\n",
    "#sample_sizes = [1000]"
   ]
  },
  {
   "cell_type": "code",
   "execution_count": 3,
   "metadata": {},
   "outputs": [
    {
     "name": "stdout",
     "output_type": "stream",
     "text": [
      "[[0.95  ]\n",
      " [1.    ]\n",
      " [0.9505]]\n"
     ]
    }
   ],
   "source": [
    "output = np.zeros((len(modelYs)*3,len(sample_sizes)))\n",
    "cf_output = np.zeros((len(modelYs)*3,len(sample_sizes)))\n",
    "for i, modelY in enumerate(modelYs):\n",
    "    for j, n in enumerate(sample_sizes):\n",
    "        cover, cf = cover_rate(n, modelY)\n",
    "        output[i*3:i*3+3,j] = cover\n",
    "        cf_output[i*3:i*3+3,j] = cf\n",
    "print(output, cf)\n",
    "#pd.DataFrame(output).to_csv(\"finite_pop_cover_rate.csv\")"
   ]
  },
  {
   "cell_type": "code",
   "execution_count": 3,
   "metadata": {},
   "outputs": [
    {
     "name": "stdout",
     "output_type": "stream",
     "text": [
      "[[ 2.09059733  1.29988532  0.88448906  0.50540412  0.35053067]\n",
      " [ 5.23699319  3.7559094   2.65925572  1.54373362  1.07086228]\n",
      " [ 1.88945522  1.27257969  0.88572448  0.50702789  0.35088164]\n",
      " [ 5.03755465  3.43847842  2.40605648  1.38579312  0.95999242]\n",
      " [ 7.43937286  5.3316549   3.77710926  2.18493765  1.5149678 ]\n",
      " [ 9.78851794  6.70140252  4.64574453  2.64675303  1.82744625]\n",
      " [ 4.63943578  3.19280445  2.24160142  1.29275434  0.89540124]\n",
      " [ 6.78102924  4.85952735  3.45384519  1.99975768  1.38621195]\n",
      " [ 9.02353294  6.17612772  4.29313105  2.44892327  1.69085264]\n",
      " [ 4.66767834  3.18989249  2.24252315  1.29276614  0.8962576 ]\n",
      " [ 6.33686301  4.52819296  3.22283598  1.86563087  1.29437254]\n",
      " [ 9.04884341  6.16725645  4.2942263   2.44887235  1.69246087]\n",
      " [19.34535669 10.86693211  6.07844366  2.56419598  1.54149014]\n",
      " [25.20717721 18.52031235 13.32864435  7.7258967   5.35501551]\n",
      " [18.38784834 11.36629217  7.25818919  3.79970228  2.55173925]\n",
      " [ 5.19003935  3.57732239  2.50334612  1.44709115  1.00366874]\n",
      " [ 7.54201328  5.40832755  3.83750728  2.22485315  1.54385429]\n",
      " [ 9.83518712  6.75803256  4.68675168  2.67724975  1.85207563]]\n"
     ]
    }
   ],
   "source": [
    "from joblib import Parallel, delayed\n",
    "import multiprocessing\n",
    "\n",
    "sample_sizes = [40, 80, 160, 480, 1000]\n",
    "\n",
    "qk_pairs = [(q,k) for q in modelYs for k in sample_sizes]\n",
    "def processInput(qk):\n",
    "    q, k = qk\n",
    "    cover, cf = cover_rate(k, q)\n",
    "    return (q,k,cover,cf)\n",
    "num_cores = multiprocessing.cpu_count()\n",
    "results = Parallel(n_jobs=num_cores)(delayed(processInput)(i) for i in qk_pairs)\n",
    "output = np.zeros((len(modelYs)*3,len(sample_sizes)))\n",
    "cf_output = np.zeros((len(modelYs)*3,len(sample_sizes)))\n",
    "for (q,k,cover,cf) in results:\n",
    "    i = int(q)-1\n",
    "    j = sample_sizes.index(k)\n",
    "    output[i*3:i*3+3,j] = cover\n",
    "    cf_output[i*3:i*3+3,j] = cf\n",
    "print(cf_output)\n",
    "pd.DataFrame(cf_output).to_csv(\"sup_pop_cf.csv\")"
   ]
  },
  {
   "cell_type": "code",
   "execution_count": 12,
   "metadata": {},
   "outputs": [
    {
     "name": "stdout",
     "output_type": "stream",
     "text": [
      "[[ 0.989       0.962       0.9515      0.9425      0.95      ]\n",
      " [ 2.29209719  1.30825506  0.94138252  0.51455701  0.34270539]\n",
      " [ 1.          1.          1.          1.          1.        ]\n",
      " [ 4.82607907  3.49792121  2.60715827  1.54552322  1.05692822]\n",
      " [ 0.93        0.94        0.944       0.9495      0.9525    ]\n",
      " [ 1.86281347  1.19124958  0.9232686   0.51868016  0.34604489]\n",
      " [ 1.          1.          1.          1.          1.        ]\n",
      " [ 4.91962864  3.30422349  2.2311134   1.41050385  0.94366332]\n",
      " [ 1.          1.          1.          1.          1.        ]\n",
      " [ 7.3403132   5.20383954  3.45575539  2.25635425  1.4978796 ]\n",
      " [ 1.          1.          1.          1.          1.        ]\n",
      " [ 9.51791927  6.33076023  4.2581047   2.7201505   1.79171009]\n",
      " [ 1.          1.          1.          1.          1.        ]\n",
      " [ 5.0796704   3.24146721  2.30796154  1.31179503  0.89886524]\n",
      " [ 1.          1.          1.          1.          1.        ]\n",
      " [ 7.27180756  4.95263567  3.59894991  2.03147129  1.38664455]\n",
      " [ 1.          1.          1.          1.          1.        ]\n",
      " [ 9.80447654  6.28785613  4.44877442  2.49526974  1.69479806]\n",
      " [ 1.          1.          1.          1.          1.        ]\n",
      " [ 4.61258478  3.36821907  2.3006996   1.27558181  0.90030112]\n",
      " [ 1.          1.          1.          1.          1.        ]\n",
      " [ 6.24795853  4.85631838  3.27817306  1.83530835  1.29712359]\n",
      " [ 1.          1.          1.          1.          1.        ]\n",
      " [ 9.13413471  6.49718285  4.39821729  2.4093726   1.69546483]\n",
      " [ 1.          1.          1.          1.          1.        ]\n",
      " [15.80150892  7.86943779  5.74796145  3.60657493  1.57690562]\n",
      " [ 1.          1.          1.          1.          1.        ]\n",
      " [22.88568834 15.94401286 11.82184574  8.84439883  5.4012857 ]\n",
      " [ 1.          1.          1.          1.          1.        ]\n",
      " [16.40033374  9.47734871  7.24880643  4.40792115  2.51964466]\n",
      " [ 0.9985      1.          1.          1.          1.        ]\n",
      " [ 5.4851569   3.62880492  2.59623206  1.43854915  1.02583566]\n",
      " [ 1.          1.          1.          1.          1.        ]\n",
      " [ 7.96990237  5.38338696  3.96952596  2.22864312  1.56787728]\n",
      " [ 1.          1.          1.          1.          1.        ]\n",
      " [10.27817708  6.7218954   4.73680072  2.65136763  1.8782493 ]]\n"
     ]
    }
   ],
   "source": [
    "output = np.zeros((len(modelYs)*3*2,len(sample_sizes)))\n",
    "for (q,k,cover,cf) in results:\n",
    "    i = int(q)-1\n",
    "    j = sample_sizes.index(k)\n",
    "    out = [cover[0], cf[0], cover[1], cf[1], cover[2], cf[2]]\n",
    "    output[i*6:i*6+6,j] = out\n",
    "print(output)\n",
    "pd.DataFrame(output).to_csv(\"finite_pop_cover_rate_cf.csv\")"
   ]
  },
  {
   "cell_type": "code",
   "execution_count": 14,
   "metadata": {},
   "outputs": [
    {
     "name": "stdout",
     "output_type": "stream",
     "text": [
      "[[ 2.29209719  1.30825506  0.94138252  0.51455701  0.34270539]\n",
      " [ 4.82607907  3.49792121  2.60715827  1.54552322  1.05692822]\n",
      " [ 1.86281347  1.19124958  0.9232686   0.51868016  0.34604489]\n",
      " [ 4.91962864  3.30422349  2.2311134   1.41050385  0.94366332]\n",
      " [ 7.3403132   5.20383954  3.45575539  2.25635425  1.4978796 ]\n",
      " [ 9.51791927  6.33076023  4.2581047   2.7201505   1.79171009]\n",
      " [ 5.0796704   3.24146721  2.30796154  1.31179503  0.89886524]\n",
      " [ 7.27180756  4.95263567  3.59894991  2.03147129  1.38664455]\n",
      " [ 9.80447654  6.28785613  4.44877442  2.49526974  1.69479806]\n",
      " [ 4.61258478  3.36821907  2.3006996   1.27558181  0.90030112]\n",
      " [ 6.24795853  4.85631838  3.27817306  1.83530835  1.29712359]\n",
      " [ 9.13413471  6.49718285  4.39821729  2.4093726   1.69546483]\n",
      " [15.80150892  7.86943779  5.74796145  3.60657493  1.57690562]\n",
      " [22.88568834 15.94401286 11.82184574  8.84439883  5.4012857 ]\n",
      " [16.40033374  9.47734871  7.24880643  4.40792115  2.51964466]\n",
      " [ 5.4851569   3.62880492  2.59623206  1.43854915  1.02583566]\n",
      " [ 7.96990237  5.38338696  3.96952596  2.22864312  1.56787728]\n",
      " [10.27817708  6.7218954   4.73680072  2.65136763  1.8782493 ]]\n"
     ]
    }
   ],
   "source": [
    "print(cf_output)\n",
    "pd.DataFrame(cf_output).to_csv(\"finite_pop_cf.csv\")"
   ]
  }
 ],
 "metadata": {
  "kernelspec": {
   "display_name": "base",
   "language": "python",
   "name": "python3"
  },
  "language_info": {
   "codemirror_mode": {
    "name": "ipython",
    "version": 3
   },
   "file_extension": ".py",
   "mimetype": "text/x-python",
   "name": "python",
   "nbconvert_exporter": "python",
   "pygments_lexer": "ipython3",
   "version": "3.8.5"
  },
  "orig_nbformat": 4,
  "vscode": {
   "interpreter": {
    "hash": "eb1c31993c61ea452a7bffd5740eb69b379c0a174f93c7698ebeb3ef9ab8ebf4"
   }
  }
 },
 "nbformat": 4,
 "nbformat_minor": 2
}
