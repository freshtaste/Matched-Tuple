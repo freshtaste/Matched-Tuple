{
 "cells": [
  {
   "cell_type": "code",
   "execution_count": 1,
   "metadata": {},
   "outputs": [
    {
     "name": "stdout",
     "output_type": "stream",
     "text": [
      "0 1 0\n"
     ]
    },
    {
     "name": "stderr",
     "output_type": "stream",
     "text": [
      "/opt/anaconda3/lib/python3.8/site-packages/pandas/core/apply.py:290: UserWarning: `x` isn't a recognized object; `shuffle` is not guaranteed to behave correctly. E.g., non-numpy array/tensor objects with view semantics may contain duplicates after shuffling.\n",
      "  results[i] = self.f(v)\n"
     ]
    }
   ],
   "source": [
    "from dgp import DGP_Finite\n",
    "from inference import Inference2, Inference\n",
    "import numpy as np\n",
    "import pandas as pd \n",
    "\n",
    "# generate multuple sample size, multiple model designs, multiple inference method,\n",
    "# a single estimator\n",
    "dgp = DGP_Finite('1',1000)\n",
    "Yobs, D, A = dgp.get_data()\n",
    "inf = Inference2(Yobs, D, A, dgp.cluster, dgp.tuple_idx, dgp.tau10)\n",
    "print(inf.inference('mp'), inf.inference('robust'), inf.inference('clustered'))\n",
    "\n",
    "def cover_rate(sample_size=1000, modelY='1', ntrials=2000):\n",
    "    dgp = DGP_Finite(modelY, sample_size)\n",
    "    cover = np.zeros((ntrials, 3))\n",
    "    for i in range(2000):\n",
    "        Yobs, D, A = dgp.get_data()\n",
    "        inf = Inference2(Yobs, D, A, dgp.cluster, dgp.tuple_idx, dgp.tau10)\n",
    "        cover[i,0] = inf.inference('mp')\n",
    "        cover[i,1] = inf.inference('robust')\n",
    "        cover[i,2] = inf.inference('clustered')\n",
    "    #tmp = cover[:,0] - cover[:,2]\n",
    "    #print(tmp[tmp>0], cover[:,0][tmp>0], cover[:,2][tmp>0])\n",
    "    #print(np.mean(tmp>0))\n",
    "    return np.mean(cover, axis=0)"
   ]
  },
  {
   "cell_type": "code",
   "execution_count": 2,
   "metadata": {},
   "outputs": [],
   "source": [
    "modelYs = ['1','2','3','4','5','6']\n",
    "sample_sizes = [50, 100, 200, 500, 1000]\n",
    "modelYs = ['1']\n",
    "sample_sizes = [1000]"
   ]
  },
  {
   "cell_type": "code",
   "execution_count": 3,
   "metadata": {},
   "outputs": [
    {
     "name": "stdout",
     "output_type": "stream",
     "text": [
      "[[0.962 ]\n",
      " [1.    ]\n",
      " [0.9585]]\n"
     ]
    }
   ],
   "source": [
    "output = np.zeros((len(modelYs)*3,len(sample_sizes)))\n",
    "for i, modelY in enumerate(modelYs):\n",
    "    for j, n in enumerate(sample_sizes):\n",
    "        cover = cover_rate(n, modelY)\n",
    "        output[i*3:i*3+3,j] = cover\n",
    "print(output)\n",
    "pd.DataFrame(output).to_csv(\"finite_pop_cover_rate.csv\")"
   ]
  },
  {
   "cell_type": "code",
   "execution_count": null,
   "metadata": {},
   "outputs": [],
   "source": [
    "from joblib import Parallel, delayed\n",
    "import multiprocessing\n",
    "\n",
    "sample_sizes = [40, 80, 160, 480, 1000]\n",
    "\n",
    "qk_pairs = [(q,k) for q in modelYs for k in sample_sizes]\n",
    "def processInput(qk):\n",
    "    q, k = qk\n",
    "    cover = cover_rate(k, q)\n",
    "    return (q,k,cover)\n",
    "num_cores = multiprocessing.cpu_count()\n",
    "results = Parallel(n_jobs=num_cores)(delayed(processInput)(i) for i in qk_pairs)\n",
    "output = np.zeros((len(modelYs)*3,len(sample_sizes)))\n",
    "for (q,k,cover) in results:\n",
    "    i = int(q)-1\n",
    "    j = sample_sizes.index(k)\n",
    "    output[i*3:i*3+3,j] = cover\n",
    "print(output)\n",
    "pd.DataFrame(output).to_csv(\"finite_pop_cover_rate.csv\")"
   ]
  }
 ],
 "metadata": {
  "kernelspec": {
   "display_name": "Python 3.8.5 ('base')",
   "language": "python",
   "name": "python3"
  },
  "language_info": {
   "codemirror_mode": {
    "name": "ipython",
    "version": 3
   },
   "file_extension": ".py",
   "mimetype": "text/x-python",
   "name": "python",
   "nbconvert_exporter": "python",
   "pygments_lexer": "ipython3",
   "version": "3.8.5"
  },
  "orig_nbformat": 4,
  "vscode": {
   "interpreter": {
    "hash": "eb1c31993c61ea452a7bffd5740eb69b379c0a174f93c7698ebeb3ef9ab8ebf4"
   }
  }
 },
 "nbformat": 4,
 "nbformat_minor": 2
}
