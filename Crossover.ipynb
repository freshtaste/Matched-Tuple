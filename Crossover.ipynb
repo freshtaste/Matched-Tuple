{
 "cells": [
  {
   "cell_type": "code",
   "execution_count": 1,
   "metadata": {},
   "outputs": [],
   "source": [
    "import random\n",
    "import numpy as np\n",
    "import pandas as pd\n",
    "from sklearn.datasets import make_spd_matrix\n",
    "from sklearn.linear_model import LinearRegression, Ridge, Lasso\n",
    "from numpy.random import normal, multivariate_normal\n",
    "from tqdm.notebook import tqdm\n",
    "import matplotlib.pyplot as plt\n",
    "import seaborn as sns\n",
    "sns.set()\n",
    "from dgp import DGP\n",
    "from inference import Inference"
   ]
  },
  {
   "cell_type": "code",
   "execution_count": 2,
   "metadata": {},
   "outputs": [],
   "source": [
    "def plot_hist(tau1, tau0):\n",
    "    \n",
    "    fig, (ax_1, ax_2) = plt.subplots(1, 2, figsize=(14, 5))\n",
    "    ax_1.hist(tau1, color=\"b\")\n",
    "    ax_1.set_xlabel(\"tau1\")\n",
    "    ax_1.set_ylabel(\"Count\")\n",
    "    ax_1.axvline(x=np.mean(tau1), ymin=0, ymax=3000, color=\"k\", linestyle=\"--\")\n",
    "\n",
    "    ax_2.hist(tau0, color=\"r\")\n",
    "    ax_2.set_xlabel(\"tau0\")\n",
    "    ax_2.set_ylabel(\"Count\")\n",
    "    ax_2.axvline(x=np.mean(tau0), ymin=0, ymax=3000, color=\"k\", linestyle=\"--\")\n",
    "    return fig\n",
    "\n",
    "def reject_prob(n, modelY='1', modelDA='1', ate=0, ntrials=1000):\n",
    "    phi_tau1s, phi_tau0s, phi_thetas = np.zeros(ntrials), np.zeros(ntrials), np.zeros(ntrials)\n",
    "    for i in range(ntrials):\n",
    "        dgp = DGP(modelY,modelDA,n,tau=ate)\n",
    "        inf = Inference(dgp.Y, dgp.D, dgp.A, modelDA, tuple_idx=dgp.tuple_idx, tau=dgp.tau)\n",
    "        phi_tau1, phi_tau0, phi_theta = inf.inference()\n",
    "        phi_tau1s[i] = phi_tau1\n",
    "        phi_tau0s[i] = phi_tau0\n",
    "        phi_thetas[i] = phi_theta\n",
    "    return phi_tau1s, phi_tau0s, phi_thetas\n",
    "\n",
    "def risk(n, modelY='1', modelDA='1', ate=0, ntrials=1000):\n",
    "    tau1s, tau0s, thetas = np.zeros(ntrials), np.zeros(ntrials), np.zeros(ntrials)\n",
    "    for i in range(ntrials):\n",
    "        dgp = DGP(modelY,modelDA,n,tau=ate)\n",
    "        inf = Inference(dgp.Y, dgp.D, dgp.A, modelDA, tuple_idx=dgp.tuple_idx, tau=dgp.tau)\n",
    "        tau1s[i] = inf.tau1\n",
    "        tau0s[i] = inf.tau0\n",
    "        thetas[i] = inf.theta\n",
    "    return tau1s, tau0s, thetas"
   ]
  },
  {
   "cell_type": "code",
   "execution_count": 3,
   "metadata": {},
   "outputs": [
    {
     "name": "stdout",
     "output_type": "stream",
     "text": [
      "ModelY=1\n",
      "8.989 & 8.759 & 0.905 & 0.915 & 9.357 & 8.999 & 0.969 & 1.000 & 2.909 & 1.431 & 1.254 \\\\\n",
      "8.628 & 8.851 & 4.882 & 4.835 & 9.141 & 8.958 & 9.314 & 1.000 & 2.723 & 1.387 & 1.185 \\\\\n",
      "9.543 & 9.518 & 5.160 & 5.088 & 9.794 & 9.678 & 10.063 & 1.000 & 3.094 & 1.527 & 1.321 \\\\\n",
      "ModelY=2\n",
      "9.305 & 9.460 & 9.369 & 9.202 & 9.781 & 9.773 & 17.279 & 1.000 & 2.992 & 1.531 & 1.302 \\\\\n",
      "9.450 & 9.650 & 5.327 & 5.200 & 9.623 & 9.374 & 9.432 & 1.000 & 3.054 & 1.538 & 1.370 \\\\\n",
      "9.503 & 9.091 & 5.155 & 5.055 & 9.705 & 9.694 & 9.007 & 1.000 & 3.033 & 1.485 & 1.239 \\\\\n",
      "ModelY=3\n",
      "8.519 & 8.659 & 8.838 & 8.785 & 8.709 & 8.713 & 15.393 & 1.000 & 2.895 & 1.447 & 1.264 \\\\\n",
      "8.877 & 8.478 & 5.118 & 5.012 & 8.480 & 9.341 & 8.313 & 1.000 & 2.975 & 1.414 & 1.323 \\\\\n",
      "8.753 & 8.927 & 4.783 & 4.866 & 9.242 & 8.655 & 8.167 & 1.000 & 2.992 & 1.398 & 1.183 \\\\\n",
      "ModelY=4\n",
      "3.633 & 3.753 & 3.223 & 3.220 & 3.826 & 4.185 & 5.794 & 1.000 & 1.760 & 1.212 & 1.091 \\\\\n",
      "9.267 & 9.126 & 5.417 & 5.296 & 8.993 & 9.470 & 9.467 & 1.000 & 2.998 & 1.572 & 1.330 \\\\\n",
      "2.479 & 2.297 & 1.978 & 2.037 & 2.025 & 2.039 & 1.991 & 1.000 & 1.500 & 1.166 & 1.143 \\\\\n",
      "ModelY=5\n",
      "2.702 & 2.773 & 1.895 & 1.822 & 2.900 & 2.612 & 2.791 & 1.000 & 2.040 & 1.578 & 2.096 \\\\\n",
      "4.918 & 4.696 & 3.386 & 3.359 & 4.008 & 3.807 & 4.068 & 1.000 & 3.594 & 2.432 & 3.521 \\\\\n",
      "4.880 & 4.990 & 3.560 & 3.485 & 4.626 & 4.049 & 4.294 & 1.000 & 3.812 & 2.766 & 3.954 \\\\\n",
      "ModelY=6\n",
      "9.585 & 9.831 & 9.467 & 9.517 & 9.516 & 9.199 & 17.900 & 1.000 & 2.984 & 1.625 & 1.338 \\\\\n",
      "9.352 & 9.548 & 5.203 & 5.346 & 10.031 & 8.978 & 9.460 & 1.000 & 3.184 & 1.496 & 1.328 \\\\\n",
      "9.384 & 9.485 & 5.197 & 5.118 & 9.157 & 9.543 & 9.347 & 1.000 & 2.914 & 1.655 & 1.322 \\\\\n"
     ]
    }
   ],
   "source": [
    "# report MSE\n",
    "for i in range(6):\n",
    "    print(\"ModelY={}\".format(i+1))\n",
    "    mse = np.zeros((11,3))\n",
    "    for j in range(11):\n",
    "        tau1s, tau0s, thetas = risk(1000, modelY=str(i+1), modelDA=str(j+1), ntrials=2000)\n",
    "        mse[j,0] = np.mean(thetas**2)\n",
    "        mse[j,1] = np.mean(tau1s**2)\n",
    "        mse[j,2] = np.mean(tau0s**2)\n",
    "    mse = mse/mse[7]\n",
    "    mse = mse.T\n",
    "    for r in range(3):\n",
    "        for k in range(11):\n",
    "            if k<10:\n",
    "                print(\"{:.3f} & \".format(mse[r,k]), end = '')\n",
    "            else:\n",
    "                print(\"{:.3f} \\\\\\\\\".format(mse[r,k]))"
   ]
  },
  {
   "cell_type": "code",
   "execution_count": 4,
   "metadata": {},
   "outputs": [
    {
     "name": "stdout",
     "output_type": "stream",
     "text": [
      "ModelY=1\n",
      "0.043 & 0.051 & 0.059 & 0.059 & 0.051 & 0.049 \\\\\n",
      "0.046 & 0.052 & 0.047 & 0.051 & 0.058 & 0.056 \\\\\n",
      "0.050 & 0.046 & 0.054 & 0.052 & 0.050 & 0.048 \\\\\n",
      "ModelY=2\n",
      "0.053 & 0.049 & 0.054 & 0.043 & 0.048 & 0.057 \\\\\n",
      "0.057 & 0.054 & 0.046 & 0.051 & 0.049 & 0.059 \\\\\n",
      "0.050 & 0.050 & 0.043 & 0.052 & 0.049 & 0.054 \\\\\n",
      "ModelY=3\n",
      "0.049 & 0.051 & 0.054 & 0.045 & 0.044 & 0.052 \\\\\n",
      "0.047 & 0.052 & 0.051 & 0.051 & 0.051 & 0.053 \\\\\n",
      "0.053 & 0.048 & 0.049 & 0.054 & 0.050 & 0.050 \\\\\n",
      "ModelY=4\n",
      "0.057 & 0.043 & 0.048 & 0.055 & 0.056 & 0.046 \\\\\n",
      "0.053 & 0.050 & 0.050 & 0.048 & 0.051 & 0.044 \\\\\n",
      "0.048 & 0.045 & 0.051 & 0.050 & 0.048 & 0.044 \\\\\n",
      "ModelY=5\n",
      "0.052 & 0.051 & 0.052 & 0.051 & 0.048 & 0.049 \\\\\n",
      "0.058 & 0.053 & 0.048 & 0.043 & 0.060 & 0.059 \\\\\n",
      "0.051 & 0.057 & 0.043 & 0.048 & 0.051 & 0.059 \\\\\n",
      "ModelY=6\n",
      "0.058 & 0.058 & 0.048 & 0.048 & 0.045 & 0.054 \\\\\n",
      "0.054 & 0.045 & 0.051 & 0.048 & 0.041 & 0.051 \\\\\n",
      "0.046 & 0.053 & 0.049 & 0.051 & 0.039 & 0.060 \\\\\n"
     ]
    }
   ],
   "source": [
    "# report Reject Probability with ate=0\n",
    "for i in range(6):\n",
    "    print(\"ModelY={}\".format(i+1))\n",
    "    prob = np.zeros((6,3))\n",
    "    for j, d in enumerate(['1', '2', '8', '8p', '9', '10']):\n",
    "        phi_tau1s, phi_tau0s, phi_theta = reject_prob(1000, modelY=str(i+1), modelDA=d, ntrials=2000)\n",
    "        prob[j,0] = np.mean(phi_theta)\n",
    "        prob[j,1] = np.mean(phi_tau1s)\n",
    "        prob[j,2] = np.mean(phi_tau0s)\n",
    "    prob = prob.T\n",
    "    for r in range(3):\n",
    "        for k in range(6):\n",
    "            if k<5:\n",
    "                print(\"{:.3f} & \".format(prob[r,k]), end = '')\n",
    "            else:\n",
    "                print(\"{:.3f} \\\\\\\\\".format(prob[r,k]))"
   ]
  },
  {
   "cell_type": "code",
   "execution_count": 5,
   "metadata": {},
   "outputs": [
    {
     "name": "stdout",
     "output_type": "stream",
     "text": [
      "ModelY=1\n",
      "0.192 & 0.178 & 0.881 & 0.866 & 0.435 & 0.741 \\\\\n",
      "0.111 & 0.115 & 0.602 & 0.590 & 0.232 & 0.444 \\\\\n",
      "0.117 & 0.116 & 0.622 & 0.603 & 0.244 & 0.452 \\\\\n",
      "ModelY=2\n",
      "0.188 & 0.181 & 0.891 & 0.885 & 0.444 & 0.760 \\\\\n",
      "0.123 & 0.111 & 0.614 & 0.612 & 0.254 & 0.466 \\\\\n",
      "0.124 & 0.116 & 0.610 & 0.605 & 0.248 & 0.464 \\\\\n",
      "ModelY=3\n",
      "0.208 & 0.193 & 0.886 & 0.878 & 0.438 & 0.751 \\\\\n",
      "0.117 & 0.130 & 0.606 & 0.593 & 0.258 & 0.451 \\\\\n",
      "0.137 & 0.126 & 0.606 & 0.590 & 0.255 & 0.473 \\\\\n",
      "ModelY=4\n",
      "0.137 & 0.131 & 0.423 & 0.424 & 0.246 & 0.350 \\\\\n",
      "0.081 & 0.072 & 0.345 & 0.332 & 0.129 & 0.233 \\\\\n",
      "0.167 & 0.162 & 0.332 & 0.329 & 0.254 & 0.287 \\\\\n",
      "ModelY=5\n",
      "0.051 & 0.050 & 0.052 & 0.052 & 0.051 & 0.059 \\\\\n",
      "0.050 & 0.050 & 0.055 & 0.049 & 0.046 & 0.052 \\\\\n",
      "0.050 & 0.045 & 0.048 & 0.049 & 0.048 & 0.050 \\\\\n",
      "ModelY=6\n",
      "0.191 & 0.175 & 0.880 & 0.884 & 0.442 & 0.720 \\\\\n",
      "0.110 & 0.108 & 0.612 & 0.624 & 0.258 & 0.435 \\\\\n",
      "0.120 & 0.121 & 0.601 & 0.594 & 0.248 & 0.452 \\\\\n"
     ]
    }
   ],
   "source": [
    "for i in range(6):\n",
    "    print(\"ModelY={}\".format(i+1))\n",
    "    prob = np.zeros((6,3))\n",
    "    for j, d in enumerate(['1', '2', '8', '8p', '9', '10']):\n",
    "        phi_tau1s, phi_tau0s, phi_theta = reject_prob(1000, modelY=str(i+1), modelDA=d, ate=0.02, ntrials=2000)\n",
    "        prob[j,0] = np.mean(phi_theta)\n",
    "        prob[j,1] = np.mean(phi_tau1s)\n",
    "        prob[j,2] = np.mean(phi_tau0s)\n",
    "    prob = prob.T\n",
    "    for r in range(3):\n",
    "        for k in range(6):\n",
    "            if k<5:\n",
    "                print(\"{:.3f} & \".format(prob[r,k]), end = '')\n",
    "            else:\n",
    "                print(\"{:.3f} \\\\\\\\\".format(prob[r,k]))"
   ]
  }
 ],
 "metadata": {
  "kernelspec": {
   "display_name": "Python 3",
   "language": "python",
   "name": "python3"
  },
  "language_info": {
   "codemirror_mode": {
    "name": "ipython",
    "version": 3
   },
   "file_extension": ".py",
   "mimetype": "text/x-python",
   "name": "python",
   "nbconvert_exporter": "python",
   "pygments_lexer": "ipython3",
   "version": "3.8.5"
  }
 },
 "nbformat": 4,
 "nbformat_minor": 4
}
