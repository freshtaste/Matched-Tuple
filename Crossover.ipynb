{
 "cells": [
  {
   "cell_type": "code",
   "execution_count": 1,
   "metadata": {},
   "outputs": [],
   "source": [
    "import random\n",
    "import numpy as np\n",
    "import pandas as pd\n",
    "from sklearn.datasets import make_spd_matrix\n",
    "from sklearn.linear_model import LinearRegression, Ridge, Lasso\n",
    "from numpy.random import normal, multivariate_normal\n",
    "from tqdm.notebook import tqdm\n",
    "import matplotlib.pyplot as plt\n",
    "import seaborn as sns\n",
    "sns.set()\n",
    "from dgp import DGP\n",
    "from inference import Inference"
   ]
  },
  {
   "cell_type": "code",
   "execution_count": 2,
   "metadata": {},
   "outputs": [],
   "source": [
    "def plot_hist(tau1, tau0):\n",
    "    \n",
    "    fig, (ax_1, ax_2) = plt.subplots(1, 2, figsize=(14, 5))\n",
    "    ax_1.hist(tau1, color=\"b\")\n",
    "    ax_1.set_xlabel(\"tau1\")\n",
    "    ax_1.set_ylabel(\"Count\")\n",
    "    ax_1.axvline(x=np.mean(tau1), ymin=0, ymax=3000, color=\"k\", linestyle=\"--\")\n",
    "\n",
    "    ax_2.hist(tau0, color=\"r\")\n",
    "    ax_2.set_xlabel(\"tau0\")\n",
    "    ax_2.set_ylabel(\"Count\")\n",
    "    ax_2.axvline(x=np.mean(tau0), ymin=0, ymax=3000, color=\"k\", linestyle=\"--\")\n",
    "    return fig\n",
    "\n",
    "def simulation(n, modelY='1', modelDA='1', ate=0, ntrials=1000):\n",
    "    phi_tau1s, phi_tau0s, phi_theta = np.zeros(ntrials), np.zeros(ntrials), np.zeros(ntrials)\n",
    "    for i in range(ntrials):\n",
    "        dgp = DGP(modelY,modelDA,n,tau=ate)\n",
    "        inf = Inference(dgp.Y, dgp.D, dgp.A, modelDA, tuple_idx=dgp.tuple_idx, tau=dgp.tau)\n",
    "        phi_tau1s[i] = inf.phi_tau1\n",
    "        phi_tau0s[i] = inf.phi_tau0\n",
    "        phi_theta[i] = inf.phi_theta\n",
    "    return phi_tau1s, phi_tau0s, phi_theta"
   ]
  },
  {
   "cell_type": "code",
   "execution_count": 3,
   "metadata": {},
   "outputs": [
    {
     "name": "stdout",
     "output_type": "stream",
     "text": [
      "Coverage rate for modelY=1:  0.053 0.05 0.0415\n",
      "Coverage rate under paired inference for modelY=1:  0.0565 0.0475 0.048\n",
      "Coverage rate for modelY=2:  0.056 0.048 0.0475\n",
      "Coverage rate under paired inference for modelY=2:  0.046 0.058 0.053\n",
      "Coverage rate for modelY=3:  0.0515 0.062 0.058\n",
      "Coverage rate under paired inference for modelY=3:  0.06 0.053 0.056\n",
      "Coverage rate for modelY=4:  0.0625 0.055 0.055\n",
      "Coverage rate under paired inference for modelY=4:  0.049 0.051 0.053\n",
      "Coverage rate for modelY=5:  0.052 0.0575 0.059\n",
      "Coverage rate under paired inference for modelY=5:  0.042 0.039 0.0415\n",
      "Coverage rate for modelY=6:  0.0505 0.0455 0.0495\n",
      "Coverage rate under paired inference for modelY=6:  0.051 0.0495 0.048\n"
     ]
    }
   ],
   "source": [
    "for i in range(6):\n",
    "    phi_tau1s, phi_tau0s, phi_theta = simulation(1000, modelY=str(i+1), modelDA='8', ate=0, ntrials=2000)\n",
    "    print(\"Coverage rate for modelY={}: \".format(i+1), np.mean(phi_tau1s), np.mean(phi_tau0s), np.mean(phi_theta))\n",
    "    phi_tau1s, phi_tau0s, phi_theta = simulation(1000, modelY=str(i+1), modelDA='8p', ate=0, ntrials=2000)\n",
    "    print(\"Coverage rate under paired inference for modelY={}: \".format(i+1), np.mean(phi_tau1s), np.mean(phi_tau0s), np.mean(phi_theta))\n",
    "\n",
    "print(\"Tau=1:\")\n",
    "for i in range(6):\n",
    "    phi_tau1s, phi_tau0s, phi_theta = simulation(1000, modelY=str(i+1), modelDA='8', ate=1, ntrials=2000)\n",
    "    print(\"Coverage rate for modelY={}: \".format(i+1), np.mean(phi_tau1s), np.mean(phi_tau0s), np.mean(phi_theta))\n",
    "    phi_tau1s, phi_tau0s, phi_theta = simulation(1000, modelY=str(i+1), modelDA='8p', ate=1, ntrials=2000)\n",
    "    print(\"Coverage rate under paired inference for modelY={}: \".format(i+1), np.mean(phi_tau1s), np.mean(phi_tau0s), np.mean(phi_theta))"
   ]
  },
  {
   "cell_type": "code",
   "execution_count": 4,
   "metadata": {},
   "outputs": [
    {
     "name": "stdout",
     "output_type": "stream",
     "text": [
      "ModelY=1\n"
     ]
    },
    {
     "ename": "TypeError",
     "evalue": "cannot unpack non-iterable NoneType object",
     "output_type": "error",
     "traceback": [
      "\u001b[0;31m---------------------------------------------------------------------------\u001b[0m",
      "\u001b[0;31mTypeError\u001b[0m                                 Traceback (most recent call last)",
      "\u001b[0;32m<ipython-input-4-44aaf80e2597>\u001b[0m in \u001b[0;36m<module>\u001b[0;34m\u001b[0m\n\u001b[1;32m      3\u001b[0m     \u001b[0mmse\u001b[0m \u001b[0;34m=\u001b[0m \u001b[0mnp\u001b[0m\u001b[0;34m.\u001b[0m\u001b[0mzeros\u001b[0m\u001b[0;34m(\u001b[0m\u001b[0;34m(\u001b[0m\u001b[0;36m5\u001b[0m\u001b[0;34m,\u001b[0m\u001b[0;36m3\u001b[0m\u001b[0;34m)\u001b[0m\u001b[0;34m)\u001b[0m\u001b[0;34m\u001b[0m\u001b[0;34m\u001b[0m\u001b[0m\n\u001b[1;32m      4\u001b[0m     \u001b[0;32mfor\u001b[0m \u001b[0mj\u001b[0m \u001b[0;32min\u001b[0m \u001b[0mrange\u001b[0m\u001b[0;34m(\u001b[0m\u001b[0;36m5\u001b[0m\u001b[0;34m)\u001b[0m\u001b[0;34m:\u001b[0m\u001b[0;34m\u001b[0m\u001b[0;34m\u001b[0m\u001b[0m\n\u001b[0;32m----> 5\u001b[0;31m         \u001b[0mtau1s\u001b[0m\u001b[0;34m,\u001b[0m \u001b[0mtau0s\u001b[0m \u001b[0;34m=\u001b[0m \u001b[0msimulation\u001b[0m\u001b[0;34m(\u001b[0m\u001b[0;36m1000\u001b[0m\u001b[0;34m,\u001b[0m \u001b[0mmodelY\u001b[0m\u001b[0;34m=\u001b[0m\u001b[0mstr\u001b[0m\u001b[0;34m(\u001b[0m\u001b[0mi\u001b[0m\u001b[0;34m+\u001b[0m\u001b[0;36m1\u001b[0m\u001b[0;34m)\u001b[0m\u001b[0;34m,\u001b[0m \u001b[0mmodelDA\u001b[0m\u001b[0;34m=\u001b[0m\u001b[0mstr\u001b[0m\u001b[0;34m(\u001b[0m\u001b[0mj\u001b[0m\u001b[0;34m+\u001b[0m\u001b[0;36m1\u001b[0m\u001b[0;34m)\u001b[0m\u001b[0;34m,\u001b[0m \u001b[0mntrials\u001b[0m\u001b[0;34m=\u001b[0m\u001b[0;36m2000\u001b[0m\u001b[0;34m)\u001b[0m\u001b[0;34m\u001b[0m\u001b[0;34m\u001b[0m\u001b[0m\n\u001b[0m\u001b[1;32m      6\u001b[0m         \u001b[0mtheta\u001b[0m \u001b[0;34m=\u001b[0m \u001b[0;36m.5\u001b[0m\u001b[0;34m*\u001b[0m\u001b[0mtau1s\u001b[0m \u001b[0;34m+\u001b[0m \u001b[0;36m.5\u001b[0m\u001b[0;34m*\u001b[0m\u001b[0mtau0s\u001b[0m\u001b[0;34m\u001b[0m\u001b[0;34m\u001b[0m\u001b[0m\n\u001b[1;32m      7\u001b[0m         \u001b[0mmse\u001b[0m\u001b[0;34m[\u001b[0m\u001b[0mj\u001b[0m\u001b[0;34m,\u001b[0m\u001b[0;36m0\u001b[0m\u001b[0;34m]\u001b[0m \u001b[0;34m=\u001b[0m \u001b[0mnp\u001b[0m\u001b[0;34m.\u001b[0m\u001b[0mmean\u001b[0m\u001b[0;34m(\u001b[0m\u001b[0mtheta\u001b[0m\u001b[0;34m**\u001b[0m\u001b[0;36m2\u001b[0m\u001b[0;34m)\u001b[0m\u001b[0;34m\u001b[0m\u001b[0;34m\u001b[0m\u001b[0m\n",
      "\u001b[0;32m<ipython-input-2-45dd3493f231>\u001b[0m in \u001b[0;36msimulation\u001b[0;34m(n, modelY, modelDA, ntrials)\u001b[0m\n\u001b[1;32m     17\u001b[0m     \u001b[0;32mfor\u001b[0m \u001b[0mi\u001b[0m \u001b[0;32min\u001b[0m \u001b[0mrange\u001b[0m\u001b[0;34m(\u001b[0m\u001b[0mntrials\u001b[0m\u001b[0;34m)\u001b[0m\u001b[0;34m:\u001b[0m\u001b[0;34m\u001b[0m\u001b[0;34m\u001b[0m\u001b[0m\n\u001b[1;32m     18\u001b[0m         \u001b[0mdgp\u001b[0m \u001b[0;34m=\u001b[0m \u001b[0mDGP\u001b[0m\u001b[0;34m(\u001b[0m\u001b[0mmodelY\u001b[0m\u001b[0;34m,\u001b[0m\u001b[0mmodelDA\u001b[0m\u001b[0;34m,\u001b[0m\u001b[0mn\u001b[0m\u001b[0;34m)\u001b[0m\u001b[0;34m\u001b[0m\u001b[0;34m\u001b[0m\u001b[0m\n\u001b[0;32m---> 19\u001b[0;31m         \u001b[0minf\u001b[0m \u001b[0;34m=\u001b[0m \u001b[0mInference\u001b[0m\u001b[0;34m(\u001b[0m\u001b[0mdgp\u001b[0m\u001b[0;34m.\u001b[0m\u001b[0mY\u001b[0m\u001b[0;34m,\u001b[0m \u001b[0mdgp\u001b[0m\u001b[0;34m.\u001b[0m\u001b[0mD\u001b[0m\u001b[0;34m,\u001b[0m \u001b[0mdgp\u001b[0m\u001b[0;34m.\u001b[0m\u001b[0mA\u001b[0m\u001b[0;34m,\u001b[0m \u001b[0mmodelDA\u001b[0m\u001b[0;34m,\u001b[0m \u001b[0mtuple_idx\u001b[0m\u001b[0;34m=\u001b[0m\u001b[0mdgp\u001b[0m\u001b[0;34m.\u001b[0m\u001b[0mtuple_idx\u001b[0m\u001b[0;34m)\u001b[0m\u001b[0;34m\u001b[0m\u001b[0;34m\u001b[0m\u001b[0m\n\u001b[0m\u001b[1;32m     20\u001b[0m         \u001b[0mphi_tau1s\u001b[0m\u001b[0;34m[\u001b[0m\u001b[0mi\u001b[0m\u001b[0;34m]\u001b[0m \u001b[0;34m=\u001b[0m \u001b[0minf\u001b[0m\u001b[0;34m.\u001b[0m\u001b[0mphi_tau1\u001b[0m\u001b[0;34m\u001b[0m\u001b[0;34m\u001b[0m\u001b[0m\n\u001b[1;32m     21\u001b[0m         \u001b[0mphi_tau0s\u001b[0m\u001b[0;34m[\u001b[0m\u001b[0mi\u001b[0m\u001b[0;34m]\u001b[0m \u001b[0;34m=\u001b[0m \u001b[0minf\u001b[0m\u001b[0;34m.\u001b[0m\u001b[0mphi_tau0\u001b[0m\u001b[0;34m\u001b[0m\u001b[0;34m\u001b[0m\u001b[0m\n",
      "\u001b[0;32m~/Desktop/casual inference/Yuehao/Matched-Tuple/inference.py\u001b[0m in \u001b[0;36m__init__\u001b[0;34m(self, Y, D, A, design, tuple_idx)\u001b[0m\n\u001b[1;32m     14\u001b[0m         \u001b[0mself\u001b[0m\u001b[0;34m.\u001b[0m\u001b[0mtau1\u001b[0m\u001b[0;34m,\u001b[0m \u001b[0mself\u001b[0m\u001b[0;34m.\u001b[0m\u001b[0mtau0\u001b[0m \u001b[0;34m=\u001b[0m \u001b[0mself\u001b[0m\u001b[0;34m.\u001b[0m\u001b[0mestimator\u001b[0m\u001b[0;34m(\u001b[0m\u001b[0;34m)\u001b[0m\u001b[0;34m\u001b[0m\u001b[0;34m\u001b[0m\u001b[0m\n\u001b[1;32m     15\u001b[0m         \u001b[0mself\u001b[0m\u001b[0;34m.\u001b[0m\u001b[0mtheta\u001b[0m \u001b[0;34m=\u001b[0m \u001b[0;34m(\u001b[0m\u001b[0mself\u001b[0m\u001b[0;34m.\u001b[0m\u001b[0mtau1\u001b[0m \u001b[0;34m+\u001b[0m \u001b[0mself\u001b[0m\u001b[0;34m.\u001b[0m\u001b[0mtau0\u001b[0m\u001b[0;34m)\u001b[0m\u001b[0;34m/\u001b[0m\u001b[0;36m2\u001b[0m\u001b[0;34m\u001b[0m\u001b[0;34m\u001b[0m\u001b[0m\n\u001b[0;32m---> 16\u001b[0;31m         \u001b[0mself\u001b[0m\u001b[0;34m.\u001b[0m\u001b[0mphi_tau1\u001b[0m\u001b[0;34m,\u001b[0m \u001b[0mself\u001b[0m\u001b[0;34m.\u001b[0m\u001b[0mphi_tau0\u001b[0m\u001b[0;34m,\u001b[0m \u001b[0mself\u001b[0m\u001b[0;34m.\u001b[0m\u001b[0mphi_theta\u001b[0m \u001b[0;34m=\u001b[0m \u001b[0mself\u001b[0m\u001b[0;34m.\u001b[0m\u001b[0minference\u001b[0m\u001b[0;34m(\u001b[0m\u001b[0;34m)\u001b[0m\u001b[0;34m\u001b[0m\u001b[0;34m\u001b[0m\u001b[0m\n\u001b[0m\u001b[1;32m     17\u001b[0m \u001b[0;34m\u001b[0m\u001b[0m\n\u001b[1;32m     18\u001b[0m     \u001b[0;32mdef\u001b[0m \u001b[0mestimator\u001b[0m\u001b[0;34m(\u001b[0m\u001b[0mself\u001b[0m\u001b[0;34m)\u001b[0m\u001b[0;34m:\u001b[0m\u001b[0;34m\u001b[0m\u001b[0;34m\u001b[0m\u001b[0m\n",
      "\u001b[0;31mTypeError\u001b[0m: cannot unpack non-iterable NoneType object"
     ]
    }
   ],
   "source": [
    "for i in range(4):\n",
    "    print(\"ModelY={}\".format(i+1))\n",
    "    mse = np.zeros((5,3))\n",
    "    for j in range(5):\n",
    "        tau1s, tau0s = simulation(1000, modelY=str(i+1), modelDA=str(j+1), ntrials=2000)\n",
    "        theta = .5*tau1s + .5*tau0s\n",
    "        mse[j,0] = np.mean(theta**2)\n",
    "        mse[j,1] = np.mean(tau1s**2)\n",
    "        mse[j,2] = np.mean(tau0s**2)\n",
    "    mse = mse/mse[4]\n",
    "    print(mse.T)\n",
    "    print(\" \")"
   ]
  },
  {
   "cell_type": "code",
   "execution_count": null,
   "metadata": {},
   "outputs": [],
   "source": []
  }
 ],
 "metadata": {
  "kernelspec": {
   "display_name": "Python 3",
   "language": "python",
   "name": "python3"
  },
  "language_info": {
   "codemirror_mode": {
    "name": "ipython",
    "version": 3
   },
   "file_extension": ".py",
   "mimetype": "text/x-python",
   "name": "python",
   "nbconvert_exporter": "python",
   "pygments_lexer": "ipython3",
   "version": "3.8.5"
  }
 },
 "nbformat": 4,
 "nbformat_minor": 4
}
